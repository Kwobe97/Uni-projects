{
 "cells": [
  {
   "cell_type": "markdown",
   "id": "1ba2c8f0",
   "metadata": {},
   "source": [
    "# Import packages"
   ]
  },
  {
   "cell_type": "code",
   "execution_count": 1,
   "id": "a3a389a7",
   "metadata": {},
   "outputs": [],
   "source": [
    "import pandas as pd\n",
    "import numpy as np\n",
    "import seaborn as sns\n",
    "import warnings\n",
    "import tqdm\n",
    "warnings.filterwarnings(\"ignore\")\n",
    "\n",
    "# To plot pretty figures\n",
    "%matplotlib inline\n",
    "import matplotlib as mpl\n",
    "import matplotlib.pyplot as plt\n",
    "mpl.rc('axes', labelsize=14)\n",
    "mpl.rc('xtick', labelsize=12)\n",
    "mpl.rc('ytick', labelsize=12)"
   ]
  },
  {
   "cell_type": "markdown",
   "id": "2c53b3c8",
   "metadata": {},
   "source": [
    "# EDA"
   ]
  },
  {
   "cell_type": "markdown",
   "id": "5944cb0f",
   "metadata": {},
   "source": [
    "## Basic EDA "
   ]
  },
  {
   "cell_type": "markdown",
   "id": "16ce4c69",
   "metadata": {},
   "source": [
    "### Distinguish attributes"
   ]
  },
  {
   "cell_type": "code",
   "execution_count": 2,
   "id": "9e20ec30",
   "metadata": {},
   "outputs": [
    {
     "data": {
      "text/html": [
       "<div>\n",
       "<style scoped>\n",
       "    .dataframe tbody tr th:only-of-type {\n",
       "        vertical-align: middle;\n",
       "    }\n",
       "\n",
       "    .dataframe tbody tr th {\n",
       "        vertical-align: top;\n",
       "    }\n",
       "\n",
       "    .dataframe thead th {\n",
       "        text-align: right;\n",
       "    }\n",
       "</style>\n",
       "<table border=\"1\" class=\"dataframe\">\n",
       "  <thead>\n",
       "    <tr style=\"text-align: right;\">\n",
       "      <th></th>\n",
       "      <th>Deliveries ID</th>\n",
       "      <th>Deliveries User ID</th>\n",
       "      <th>Customers Category Name</th>\n",
       "      <th>Deliveries State Name</th>\n",
       "      <th>Deliveries Delivery Option Name</th>\n",
       "      <th>Deliveries Distance In Meters</th>\n",
       "      <th>Deliveries Duration In Seconds</th>\n",
       "      <th>Deliveries Amount</th>\n",
       "      <th>Deliveries Delivery Price</th>\n",
       "      <th>Deliveries Refund Amount</th>\n",
       "      <th>...</th>\n",
       "      <th>Deliveries Fragile (Yes / No)</th>\n",
       "      <th>Deliveries Future Job (Yes / No)</th>\n",
       "      <th>Delivery Details Pickup Postal Code</th>\n",
       "      <th>Delivery Details Pickup State Code</th>\n",
       "      <th>Delivery Details Pickup Metro Area</th>\n",
       "      <th>Delivery Details Pickup Location</th>\n",
       "      <th>Delivery Details Drop Off Postal Code</th>\n",
       "      <th>Delivery Details Drop Off State Code</th>\n",
       "      <th>Delivery Details Drop Off Metro Area</th>\n",
       "      <th>Delivery Details Drop Off Location</th>\n",
       "    </tr>\n",
       "  </thead>\n",
       "  <tbody>\n",
       "    <tr>\n",
       "      <th>0</th>\n",
       "      <td>4669796</td>\n",
       "      <td>27237</td>\n",
       "      <td>Alcohol</td>\n",
       "      <td>closed</td>\n",
       "      <td>1 hour</td>\n",
       "      <td>1,543</td>\n",
       "      <td>324</td>\n",
       "      <td>$18.51</td>\n",
       "      <td>$13.89</td>\n",
       "      <td>$0.00</td>\n",
       "      <td>...</td>\n",
       "      <td>No</td>\n",
       "      <td>No</td>\n",
       "      <td>3128.0</td>\n",
       "      <td>VIC</td>\n",
       "      <td>Melbourne</td>\n",
       "      <td>'-37.8190938,145.1221019</td>\n",
       "      <td>3128</td>\n",
       "      <td>VIC</td>\n",
       "      <td>Melbourne</td>\n",
       "      <td>'-37.828301,145.1272158</td>\n",
       "    </tr>\n",
       "    <tr>\n",
       "      <th>1</th>\n",
       "      <td>4669793</td>\n",
       "      <td>27237</td>\n",
       "      <td>Alcohol</td>\n",
       "      <td>closed</td>\n",
       "      <td>1 hour</td>\n",
       "      <td>730</td>\n",
       "      <td>173</td>\n",
       "      <td>$15.50</td>\n",
       "      <td>$11.63</td>\n",
       "      <td>$0.00</td>\n",
       "      <td>...</td>\n",
       "      <td>No</td>\n",
       "      <td>No</td>\n",
       "      <td>3194.0</td>\n",
       "      <td>VIC</td>\n",
       "      <td>Melbourne</td>\n",
       "      <td>'-37.9815041,145.0631414</td>\n",
       "      <td>3194</td>\n",
       "      <td>VIC</td>\n",
       "      <td>Melbourne</td>\n",
       "      <td>'-37.9827959,145.0578174</td>\n",
       "    </tr>\n",
       "    <tr>\n",
       "      <th>2</th>\n",
       "      <td>4662566</td>\n",
       "      <td>45440</td>\n",
       "      <td>Grocery/Food</td>\n",
       "      <td>closed</td>\n",
       "      <td>1 hour</td>\n",
       "      <td>7,432</td>\n",
       "      <td>699</td>\n",
       "      <td>$40.03</td>\n",
       "      <td>$30.01</td>\n",
       "      <td>$0.00</td>\n",
       "      <td>...</td>\n",
       "      <td>No</td>\n",
       "      <td>Yes</td>\n",
       "      <td>3150.0</td>\n",
       "      <td>VIC</td>\n",
       "      <td>Melbourne</td>\n",
       "      <td>'-37.8762186,145.1652513</td>\n",
       "      <td>3152</td>\n",
       "      <td>VIC</td>\n",
       "      <td>Melbourne</td>\n",
       "      <td>'-37.8865433,145.2356254</td>\n",
       "    </tr>\n",
       "    <tr>\n",
       "      <th>3</th>\n",
       "      <td>4669670</td>\n",
       "      <td>27237</td>\n",
       "      <td>Alcohol</td>\n",
       "      <td>closed</td>\n",
       "      <td>1 hour</td>\n",
       "      <td>368</td>\n",
       "      <td>102</td>\n",
       "      <td>$15.50</td>\n",
       "      <td>$11.63</td>\n",
       "      <td>$0.00</td>\n",
       "      <td>...</td>\n",
       "      <td>No</td>\n",
       "      <td>No</td>\n",
       "      <td>3121.0</td>\n",
       "      <td>VIC</td>\n",
       "      <td>Melbourne</td>\n",
       "      <td>'-37.8254207,144.9942752</td>\n",
       "      <td>3121</td>\n",
       "      <td>VIC</td>\n",
       "      <td>Melbourne</td>\n",
       "      <td>'-37.826117,144.998071</td>\n",
       "    </tr>\n",
       "    <tr>\n",
       "      <th>4</th>\n",
       "      <td>4667379</td>\n",
       "      <td>45440</td>\n",
       "      <td>Grocery/Food</td>\n",
       "      <td>cancelled</td>\n",
       "      <td>1 hour</td>\n",
       "      <td>1,303</td>\n",
       "      <td>270</td>\n",
       "      <td>$14.50</td>\n",
       "      <td>$0.00</td>\n",
       "      <td>$14.50</td>\n",
       "      <td>...</td>\n",
       "      <td>No</td>\n",
       "      <td>No</td>\n",
       "      <td>4119.0</td>\n",
       "      <td>QLD</td>\n",
       "      <td>Brisbane</td>\n",
       "      <td>'-27.606905,153.1100234</td>\n",
       "      <td>4119</td>\n",
       "      <td>QLD</td>\n",
       "      <td>Brisbane</td>\n",
       "      <td>'-27.6052348,153.1116114</td>\n",
       "    </tr>\n",
       "  </tbody>\n",
       "</table>\n",
       "<p>5 rows × 38 columns</p>\n",
       "</div>"
      ],
      "text/plain": [
       "   Deliveries ID  Deliveries User ID Customers Category Name  \\\n",
       "0        4669796               27237                 Alcohol   \n",
       "1        4669793               27237                 Alcohol   \n",
       "2        4662566               45440            Grocery/Food   \n",
       "3        4669670               27237                 Alcohol   \n",
       "4        4667379               45440            Grocery/Food   \n",
       "\n",
       "  Deliveries State Name Deliveries Delivery Option Name  \\\n",
       "0                closed                          1 hour   \n",
       "1                closed                          1 hour   \n",
       "2                closed                          1 hour   \n",
       "3                closed                          1 hour   \n",
       "4             cancelled                          1 hour   \n",
       "\n",
       "  Deliveries Distance In Meters Deliveries Duration In Seconds  \\\n",
       "0                         1,543                            324   \n",
       "1                           730                            173   \n",
       "2                         7,432                            699   \n",
       "3                           368                            102   \n",
       "4                         1,303                            270   \n",
       "\n",
       "  Deliveries Amount Deliveries Delivery Price Deliveries Refund Amount  ...  \\\n",
       "0            $18.51                    $13.89                    $0.00  ...   \n",
       "1            $15.50                    $11.63                    $0.00  ...   \n",
       "2            $40.03                    $30.01                    $0.00  ...   \n",
       "3            $15.50                    $11.63                    $0.00  ...   \n",
       "4            $14.50                     $0.00                   $14.50  ...   \n",
       "\n",
       "   Deliveries Fragile (Yes / No)  Deliveries Future Job (Yes / No)  \\\n",
       "0                             No                                No   \n",
       "1                             No                                No   \n",
       "2                             No                               Yes   \n",
       "3                             No                                No   \n",
       "4                             No                                No   \n",
       "\n",
       "   Delivery Details Pickup Postal Code  Delivery Details Pickup State Code  \\\n",
       "0                               3128.0                                 VIC   \n",
       "1                               3194.0                                 VIC   \n",
       "2                               3150.0                                 VIC   \n",
       "3                               3121.0                                 VIC   \n",
       "4                               4119.0                                 QLD   \n",
       "\n",
       "   Delivery Details Pickup Metro Area  Delivery Details Pickup Location  \\\n",
       "0                           Melbourne          '-37.8190938,145.1221019   \n",
       "1                           Melbourne          '-37.9815041,145.0631414   \n",
       "2                           Melbourne          '-37.8762186,145.1652513   \n",
       "3                           Melbourne          '-37.8254207,144.9942752   \n",
       "4                            Brisbane           '-27.606905,153.1100234   \n",
       "\n",
       "   Delivery Details Drop Off Postal Code  \\\n",
       "0                                   3128   \n",
       "1                                   3194   \n",
       "2                                   3152   \n",
       "3                                   3121   \n",
       "4                                   4119   \n",
       "\n",
       "   Delivery Details Drop Off State Code  Delivery Details Drop Off Metro Area  \\\n",
       "0                                   VIC                             Melbourne   \n",
       "1                                   VIC                             Melbourne   \n",
       "2                                   VIC                             Melbourne   \n",
       "3                                   VIC                             Melbourne   \n",
       "4                                   QLD                              Brisbane   \n",
       "\n",
       "   Delivery Details Drop Off Location  \n",
       "0             '-37.828301,145.1272158  \n",
       "1            '-37.9827959,145.0578174  \n",
       "2            '-37.8865433,145.2356254  \n",
       "3              '-37.826117,144.998071  \n",
       "4            '-27.6052348,153.1116114  \n",
       "\n",
       "[5 rows x 38 columns]"
      ]
     },
     "execution_count": 2,
     "metadata": {},
     "output_type": "execute_result"
    }
   ],
   "source": [
    "sherpa = pd.read_csv('Sherpa_dataset.csv',low_memory=False)\n",
    "sherpa.head()"
   ]
  },
  {
   "cell_type": "code",
   "execution_count": 3,
   "id": "fcdbfb57",
   "metadata": {},
   "outputs": [
    {
     "data": {
      "text/plain": [
       "(495261, 38)"
      ]
     },
     "execution_count": 3,
     "metadata": {},
     "output_type": "execute_result"
    }
   ],
   "source": [
    "sherpa.shape"
   ]
  },
  {
   "cell_type": "code",
   "execution_count": 4,
   "id": "4b57333c",
   "metadata": {},
   "outputs": [
    {
     "data": {
      "text/plain": [
       "Index(['Deliveries ID', 'Deliveries User ID', 'Customers Category Name',\n",
       "       'Deliveries State Name', 'Deliveries Delivery Option Name',\n",
       "       'Deliveries Distance In Meters', 'Deliveries Duration In Seconds',\n",
       "       'Deliveries Amount', 'Deliveries Delivery Price',\n",
       "       'Deliveries Refund Amount', 'Delivery Surcharges Amount Increase',\n",
       "       'Delivery Surcharges Delivery Price Increase',\n",
       "       'Delivery Surcharges Cbd User', 'Delivery Surcharges Cbd Courier',\n",
       "       'Delivery Surcharges Multiple Items User',\n",
       "       'Delivery Surcharges Multiple Items Courier',\n",
       "       'Delivery Surcharges Wait Time Courier Increase',\n",
       "       'Delivery Surcharges Wait Time User Increase',\n",
       "       'Delivery Surcharges Insurance User', 'Deliveries Item Number',\n",
       "       'Deliveries Heaviest Item Weight', 'Deliveries Total Weight',\n",
       "       'Deliveries Created Time', 'Deliveries Ready At Time',\n",
       "       'Deliveries Assigned At Time', 'Deliveries Delivered At Time',\n",
       "       'Deliveries Deliver for Time', 'Deliveries Time Zone',\n",
       "       'Deliveries Fragile (Yes / No)', 'Deliveries Future Job (Yes / No)',\n",
       "       'Delivery Details Pickup Postal Code',\n",
       "       'Delivery Details Pickup State Code',\n",
       "       'Delivery Details Pickup Metro Area',\n",
       "       'Delivery Details Pickup Location',\n",
       "       'Delivery Details Drop Off Postal Code',\n",
       "       'Delivery Details Drop Off State Code',\n",
       "       'Delivery Details Drop Off Metro Area',\n",
       "       'Delivery Details Drop Off Location'],\n",
       "      dtype='object')"
      ]
     },
     "execution_count": 4,
     "metadata": {},
     "output_type": "execute_result"
    }
   ],
   "source": [
    "# List all the variables\n",
    "sherpa.keys()"
   ]
  },
  {
   "cell_type": "code",
   "execution_count": 5,
   "id": "dc9847bd",
   "metadata": {},
   "outputs": [
    {
     "name": "stdout",
     "output_type": "stream",
     "text": [
      "<class 'pandas.core.frame.DataFrame'>\n",
      "RangeIndex: 495261 entries, 0 to 495260\n",
      "Data columns (total 38 columns):\n",
      " #   Column                                          Non-Null Count   Dtype  \n",
      "---  ------                                          --------------   -----  \n",
      " 0   Deliveries ID                                   495261 non-null  int64  \n",
      " 1   Deliveries User ID                              495261 non-null  int64  \n",
      " 2   Customers Category Name                         495261 non-null  object \n",
      " 3   Deliveries State Name                           495261 non-null  object \n",
      " 4   Deliveries Delivery Option Name                 495261 non-null  object \n",
      " 5   Deliveries Distance In Meters                   495261 non-null  object \n",
      " 6   Deliveries Duration In Seconds                  495261 non-null  object \n",
      " 7   Deliveries Amount                               495261 non-null  object \n",
      " 8   Deliveries Delivery Price                       495261 non-null  object \n",
      " 9   Deliveries Refund Amount                        495261 non-null  object \n",
      " 10  Delivery Surcharges Amount Increase             495261 non-null  float64\n",
      " 11  Delivery Surcharges Delivery Price Increase     495261 non-null  float64\n",
      " 12  Delivery Surcharges Cbd User                    495261 non-null  float64\n",
      " 13  Delivery Surcharges Cbd Courier                 495261 non-null  float64\n",
      " 14  Delivery Surcharges Multiple Items User         495261 non-null  float64\n",
      " 15  Delivery Surcharges Multiple Items Courier      495261 non-null  float64\n",
      " 16  Delivery Surcharges Wait Time Courier Increase  495261 non-null  int64  \n",
      " 17  Delivery Surcharges Wait Time User Increase     495261 non-null  float64\n",
      " 18  Delivery Surcharges Insurance User              495261 non-null  float64\n",
      " 19  Deliveries Item Number                          495261 non-null  int64  \n",
      " 20  Deliveries Heaviest Item Weight                 367 non-null     float64\n",
      " 21  Deliveries Total Weight                         158143 non-null  float64\n",
      " 22  Deliveries Created Time                         495261 non-null  object \n",
      " 23  Deliveries Ready At Time                        495261 non-null  object \n",
      " 24  Deliveries Assigned At Time                     461037 non-null  object \n",
      " 25  Deliveries Delivered At Time                    442099 non-null  object \n",
      " 26  Deliveries Deliver for Time                     495261 non-null  object \n",
      " 27  Deliveries Time Zone                            495261 non-null  object \n",
      " 28  Deliveries Fragile (Yes / No)                   495261 non-null  object \n",
      " 29  Deliveries Future Job (Yes / No)                495261 non-null  object \n",
      " 30  Delivery Details Pickup Postal Code             494305 non-null  float64\n",
      " 31  Delivery Details Pickup State Code              495261 non-null  object \n",
      " 32  Delivery Details Pickup Metro Area              495206 non-null  object \n",
      " 33  Delivery Details Pickup Location                495261 non-null  object \n",
      " 34  Delivery Details Drop Off Postal Code           495235 non-null  object \n",
      " 35  Delivery Details Drop Off State Code            495260 non-null  object \n",
      " 36  Delivery Details Drop Off Metro Area            495056 non-null  object \n",
      " 37  Delivery Details Drop Off Location              495261 non-null  object \n",
      "dtypes: float64(11), int64(4), object(23)\n",
      "memory usage: 143.6+ MB\n"
     ]
    }
   ],
   "source": [
    "sherpa.info()"
   ]
  },
  {
   "cell_type": "markdown",
   "id": "e5d05236",
   "metadata": {},
   "source": [
    "### Duplicate"
   ]
  },
  {
   "cell_type": "code",
   "execution_count": 6,
   "id": "cc7d3ca9",
   "metadata": {},
   "outputs": [
    {
     "name": "stdout",
     "output_type": "stream",
     "text": [
      "number of duplicated rows:  (0, 38)\n"
     ]
    }
   ],
   "source": [
    "# checking duplicates in the dataset\n",
    "\n",
    "duplicate_rows = sherpa[sherpa.duplicated()]\n",
    "print('number of duplicated rows: ', duplicate_rows.shape)"
   ]
  },
  {
   "cell_type": "markdown",
   "id": "9bc8ac29",
   "metadata": {},
   "source": [
    "There is no duplicated rows in the dataset"
   ]
  },
  {
   "cell_type": "markdown",
   "id": "cd71d0b6",
   "metadata": {},
   "source": [
    "### Missing values"
   ]
  },
  {
   "cell_type": "code",
   "execution_count": 7,
   "id": "b424dc9c",
   "metadata": {},
   "outputs": [
    {
     "data": {
      "text/plain": [
       "<AxesSubplot:title={'center':'The number of missing values in each variables'}>"
      ]
     },
     "execution_count": 7,
     "metadata": {},
     "output_type": "execute_result"
    },
    {
     "data": {
      "image/png": "[encoded data removed]",
      "text/plain": [
       "<Figure size 1152x576 with 1 Axes>"
      ]
     },
     "metadata": {
      "needs_background": "light"
     },
     "output_type": "display_data"
    }
   ],
   "source": [
    "# To see how many missing in each variable\n",
    "\n",
    "sherpa.isnull().sum().sort_values(ascending=False).plot(kind='bar', \n",
    "                                                        figsize = (16,8), \n",
    "                                                        title = 'The number of missing values in each variables')"
   ]
  },
  {
   "cell_type": "code",
   "execution_count": 8,
   "id": "44718b5e",
   "metadata": {},
   "outputs": [
    {
     "data": {
      "image/png": "[encoded data removed]",
      "text/plain": [
       "<Figure size 864x432 with 1 Axes>"
      ]
     },
     "metadata": {
      "needs_background": "light"
     },
     "output_type": "display_data"
    }
   ],
   "source": [
    "# showing the percentage of missing values\n",
    "\n",
    "perc = sherpa.isnull().sum()/sherpa.shape[0]*100\n",
    "\n",
    "perc = perc[perc!=0]\n",
    "\n",
    "perc.sort_values(ascending = False).plot(kind = 'bar',\n",
    "                                        figsize = (12,6),\n",
    "                                        rot = 60,\n",
    "                                        title = 'percentage of missing values',\n",
    "                                        ylabel = '% missing',\n",
    "                                        xlabel = 'variables that contain missing values').get_figure()\n",
    "plt.savefig('test.pdf',dpi=300)\n",
    "\n"
   ]
  },
  {
   "cell_type": "code",
   "execution_count": 9,
   "id": "ea69636c",
   "metadata": {},
   "outputs": [
    {
     "data": {
      "text/plain": [
       "Deliveries Heaviest Item Weight          99.925898\n",
       "Deliveries Total Weight                  68.068756\n",
       "Deliveries Delivered At Time             10.734138\n",
       "Deliveries Assigned At Time               6.910296\n",
       "Delivery Details Pickup Postal Code       0.193030\n",
       "Delivery Details Drop Off Metro Area      0.041392\n",
       "Delivery Details Pickup Metro Area        0.011105\n",
       "Delivery Details Drop Off Postal Code     0.005250\n",
       "Delivery Details Drop Off State Code      0.000202\n",
       "dtype: float64"
      ]
     },
     "execution_count": 9,
     "metadata": {},
     "output_type": "execute_result"
    }
   ],
   "source": [
    "perc.sort_values(ascending = False)"
   ]
  },
  {
   "cell_type": "markdown",
   "id": "16b5c106",
   "metadata": {},
   "source": [
    "! say how we are going to treat these missing"
   ]
  },
  {
   "cell_type": "markdown",
   "id": "63e98c2d",
   "metadata": {},
   "source": [
    " \n",
    "high: heaviest item weight, total weight - delete\n",
    "\n",
    "    low: everything else - impute "
   ]
  },
  {
   "cell_type": "code",
   "execution_count": 10,
   "id": "9f24f320",
   "metadata": {},
   "outputs": [],
   "source": [
    "# replace the missing values with median \n",
    "\n",
    "\n",
    "# median = housing[\"total_bedrooms\"].median()  \n",
    "# housing[\"total_bedrooms\"].fillna(median, inplace=True)"
   ]
  },
  {
   "cell_type": "code",
   "execution_count": 13,
   "id": "b8884e1f",
   "metadata": {},
   "outputs": [
    {
     "name": "stdout",
     "output_type": "stream",
     "text": [
      "count of NULL values after imputation\n",
      "\n"
     ]
    },
    {
     "data": {
      "text/plain": [
       "Deliveries ID                                          0\n",
       "Deliveries User ID                                     0\n",
       "Customers Category Name                                0\n",
       "Deliveries State Name                                  0\n",
       "Deliveries Delivery Option Name                        0\n",
       "Deliveries Distance In Meters                          0\n",
       "Deliveries Duration In Seconds                         0\n",
       "Deliveries Amount                                      0\n",
       "Deliveries Delivery Price                              0\n",
       "Deliveries Refund Amount                               0\n",
       "Delivery Surcharges Amount Increase                    0\n",
       "Delivery Surcharges Delivery Price Increase            0\n",
       "Delivery Surcharges Cbd User                           0\n",
       "Delivery Surcharges Cbd Courier                        0\n",
       "Delivery Surcharges Multiple Items User                0\n",
       "Delivery Surcharges Multiple Items Courier             0\n",
       "Delivery Surcharges Wait Time Courier Increase         0\n",
       "Delivery Surcharges Wait Time User Increase            0\n",
       "Delivery Surcharges Insurance User                     0\n",
       "Deliveries Item Number                                 0\n",
       "Deliveries Heaviest Item Weight                   494894\n",
       "Deliveries Total Weight                           337118\n",
       "Deliveries Created Time                                0\n",
       "Deliveries Ready At Time                               0\n",
       "Deliveries Assigned At Time                        34224\n",
       "Deliveries Delivered At Time                       53162\n",
       "Deliveries Deliver for Time                            0\n",
       "Deliveries Time Zone                                   0\n",
       "Deliveries Fragile (Yes / No)                          0\n",
       "Deliveries Future Job (Yes / No)                       0\n",
       "Delivery Details Pickup Postal Code                  956\n",
       "Delivery Details Pickup State Code                     0\n",
       "Delivery Details Pickup Metro Area                    55\n",
       "Delivery Details Pickup Location                       0\n",
       "Delivery Details Drop Off Postal Code                 26\n",
       "Delivery Details Drop Off State Code                   1\n",
       "Delivery Details Drop Off Metro Area                 205\n",
       "Delivery Details Drop Off Location                     0\n",
       "dtype: int64"
      ]
     },
     "execution_count": 13,
     "metadata": {},
     "output_type": "execute_result"
    }
   ],
   "source": [
    "missing_col = ['Delivery Details Pickup Postal Code', 'Delivery Details Drop Off Metro Area',\n",
    "              'Delivery Details Pickup Metro Area', 'Delivery Details Drop Off Postal Code',\n",
    "              'Delivery Details Drop Off State Code']\n",
    " \n",
    "#Technique 2: Using median to impute the missing values\n",
    "for i in missing_col:\n",
    "    sherpa.loc[sherpa.loc[:,i].isnull(),i]=sherpa.loc[:,i].mode()\n",
    " \n",
    "print(\"count of NULL values after imputation\\n\")\n",
    "sherpa.isnull().sum()"
   ]
  },
  {
   "cell_type": "code",
   "execution_count": 14,
   "id": "498aff1a",
   "metadata": {},
   "outputs": [],
   "source": [
    "# f_sherpa['Delivery Details Drop Off Postal Code'].unique()"
   ]
  },
  {
   "cell_type": "markdown",
   "id": "8e07a026",
   "metadata": {},
   "source": [
    "### Extracting target variable - DIFOT"
   ]
  },
  {
   "cell_type": "markdown",
   "id": "55bcde53",
   "metadata": {},
   "source": [
    "DIFOT is calculated by comparing ‘Deliveries Delivered at Time’ & ‘Deliveries Delivered for Time’\n",
    "\n",
    "Also DIFOT should only be calculated if the delivery is indicated as \"closed\" under \"Deliverise State Name\", and have a valid record of ‘Deliveries Delivered at Time’ (no missing)"
   ]
  },
  {
   "cell_type": "markdown",
   "id": "9f194641",
   "metadata": {},
   "source": [
    "`Step1: Get the data ready for DIFOT calcualtion`"
   ]
  },
  {
   "cell_type": "code",
   "execution_count": 15,
   "id": "4d976789",
   "metadata": {},
   "outputs": [
    {
     "data": {
      "text/plain": [
       "(495261, 38)"
      ]
     },
     "execution_count": 15,
     "metadata": {},
     "output_type": "execute_result"
    }
   ],
   "source": [
    "# filter out the missing values under \"deliverues delivered at time\"\n",
    "\n",
    "f_sherpa = sherpa[~sherpa['Deliveries Delivered At Time'].isnull()]\n",
    "\n",
    "sherpa.shape"
   ]
  },
  {
   "cell_type": "code",
   "execution_count": 16,
   "id": "738cad1d",
   "metadata": {},
   "outputs": [
    {
     "data": {
      "text/plain": [
       "0.0"
      ]
     },
     "execution_count": 16,
     "metadata": {},
     "output_type": "execute_result"
    }
   ],
   "source": [
    "# Confirm there is no missing values under 'Deliveries Delivered At Time'\n",
    "\n",
    "f_sherpa['Deliveries Delivered At Time'].isnull().sum()/f_sherpa.shape[0]"
   ]
  },
  {
   "cell_type": "code",
   "execution_count": 17,
   "id": "389e683d",
   "metadata": {},
   "outputs": [
    {
     "data": {
      "text/plain": [
       "array(['closed', 'failed', 'cancelled', 'refunded'], dtype=object)"
      ]
     },
     "execution_count": 17,
     "metadata": {},
     "output_type": "execute_result"
    }
   ],
   "source": [
    "# checking unique values for \"deliveries state name\"\n",
    "\n",
    "f_sherpa['Deliveries State Name'].unique()"
   ]
  },
  {
   "cell_type": "code",
   "execution_count": 18,
   "id": "dd2062fe",
   "metadata": {},
   "outputs": [],
   "source": [
    "# filter out \"canceled, failed, refunded\" under 'deliveries state name'\n",
    "\n",
    "f_sherpa = f_sherpa[f_sherpa['Deliveries State Name']=='closed']"
   ]
  },
  {
   "cell_type": "code",
   "execution_count": 19,
   "id": "96cf8786",
   "metadata": {},
   "outputs": [
    {
     "data": {
      "text/plain": [
       "Index(['Deliveries ID', 'Deliveries User ID', 'Customers Category Name',\n",
       "       'Deliveries Delivery Option Name', 'Deliveries Distance In Meters',\n",
       "       'Deliveries Duration In Seconds', 'Deliveries Amount',\n",
       "       'Deliveries Delivery Price', 'Deliveries Refund Amount',\n",
       "       'Delivery Surcharges Amount Increase',\n",
       "       'Delivery Surcharges Delivery Price Increase',\n",
       "       'Delivery Surcharges Cbd User', 'Delivery Surcharges Cbd Courier',\n",
       "       'Delivery Surcharges Multiple Items User',\n",
       "       'Delivery Surcharges Multiple Items Courier',\n",
       "       'Delivery Surcharges Wait Time Courier Increase',\n",
       "       'Delivery Surcharges Wait Time User Increase',\n",
       "       'Delivery Surcharges Insurance User', 'Deliveries Item Number',\n",
       "       'Deliveries Heaviest Item Weight', 'Deliveries Total Weight',\n",
       "       'Deliveries Created Time', 'Deliveries Ready At Time',\n",
       "       'Deliveries Assigned At Time', 'Deliveries Delivered At Time',\n",
       "       'Deliveries Deliver for Time', 'Deliveries Time Zone',\n",
       "       'Deliveries Fragile (Yes / No)', 'Deliveries Future Job (Yes / No)',\n",
       "       'Delivery Details Pickup Postal Code',\n",
       "       'Delivery Details Pickup State Code',\n",
       "       'Delivery Details Pickup Metro Area',\n",
       "       'Delivery Details Pickup Location',\n",
       "       'Delivery Details Drop Off Postal Code',\n",
       "       'Delivery Details Drop Off State Code',\n",
       "       'Delivery Details Drop Off Metro Area',\n",
       "       'Delivery Details Drop Off Location'],\n",
       "      dtype='object')"
      ]
     },
     "execution_count": 19,
     "metadata": {},
     "output_type": "execute_result"
    }
   ],
   "source": [
    "# since 'deliveries state name' only has 1 value (closed), we will delete this column for our futher analysis\n",
    "\n",
    "f_sherpa.drop(columns='Deliveries State Name', inplace=True)\n",
    "f_sherpa.keys()"
   ]
  },
  {
   "cell_type": "markdown",
   "id": "bdc3ec36",
   "metadata": {},
   "source": [
    "`Step2: Calculate DIFOT`"
   ]
  },
  {
   "cell_type": "code",
   "execution_count": 20,
   "id": "d5384806",
   "metadata": {},
   "outputs": [
    {
     "data": {
      "text/plain": [
       "0         30/09/2021 23:59\n",
       "1         30/09/2021 23:59\n",
       "2         30/09/2021 23:55\n",
       "3         30/09/2021 23:55\n",
       "5         30/09/2021 23:54\n",
       "                ...       \n",
       "495256      1/07/2021 1:30\n",
       "495257      1/07/2021 1:00\n",
       "495258      1/07/2021 1:00\n",
       "495259      1/07/2021 1:00\n",
       "495260      1/07/2021 0:00\n",
       "Name: Deliveries Deliver for Time, Length: 441854, dtype: object"
      ]
     },
     "execution_count": 20,
     "metadata": {},
     "output_type": "execute_result"
    }
   ],
   "source": [
    " # examine delivery for time\n",
    "f_sherpa['Deliveries Deliver for Time']"
   ]
  },
  {
   "cell_type": "code",
   "execution_count": 21,
   "id": "766ecde6",
   "metadata": {},
   "outputs": [
    {
     "data": {
      "text/plain": [
       "0           1/10/2021 0:55\n",
       "1         30/09/2021 23:13\n",
       "2           1/10/2021 0:08\n",
       "3         30/09/2021 23:23\n",
       "5         30/09/2021 23:28\n",
       "                ...       \n",
       "495256    30/06/2021 22:17\n",
       "495257    30/06/2021 23:36\n",
       "495258    30/06/2021 22:50\n",
       "495259    30/06/2021 23:41\n",
       "495260      1/07/2021 0:26\n",
       "Name: Deliveries Delivered At Time, Length: 441854, dtype: object"
      ]
     },
     "execution_count": 21,
     "metadata": {},
     "output_type": "execute_result"
    }
   ],
   "source": [
    "# examine delivery at time\n",
    "f_sherpa['Deliveries Delivered At Time']"
   ]
  },
  {
   "cell_type": "markdown",
   "id": "c4a0971c",
   "metadata": {},
   "source": [
    "Because the data format is not in pandas date format, we need to convert it in order to calculate the difference."
   ]
  },
  {
   "cell_type": "code",
   "execution_count": 22,
   "id": "c6858060",
   "metadata": {},
   "outputs": [
    {
     "data": {
      "text/html": [
       "<div>\n",
       "<style scoped>\n",
       "    .dataframe tbody tr th:only-of-type {\n",
       "        vertical-align: middle;\n",
       "    }\n",
       "\n",
       "    .dataframe tbody tr th {\n",
       "        vertical-align: top;\n",
       "    }\n",
       "\n",
       "    .dataframe thead th {\n",
       "        text-align: right;\n",
       "    }\n",
       "</style>\n",
       "<table border=\"1\" class=\"dataframe\">\n",
       "  <thead>\n",
       "    <tr style=\"text-align: right;\">\n",
       "      <th></th>\n",
       "      <th>Deliveries ID</th>\n",
       "      <th>Deliveries User ID</th>\n",
       "      <th>Customers Category Name</th>\n",
       "      <th>Deliveries Delivery Option Name</th>\n",
       "      <th>Deliveries Distance In Meters</th>\n",
       "      <th>Deliveries Duration In Seconds</th>\n",
       "      <th>Deliveries Amount</th>\n",
       "      <th>Deliveries Delivery Price</th>\n",
       "      <th>Deliveries Refund Amount</th>\n",
       "      <th>Delivery Surcharges Amount Increase</th>\n",
       "      <th>...</th>\n",
       "      <th>Delivery Details Pickup Postal Code</th>\n",
       "      <th>Delivery Details Pickup State Code</th>\n",
       "      <th>Delivery Details Pickup Metro Area</th>\n",
       "      <th>Delivery Details Pickup Location</th>\n",
       "      <th>Delivery Details Drop Off Postal Code</th>\n",
       "      <th>Delivery Details Drop Off State Code</th>\n",
       "      <th>Delivery Details Drop Off Metro Area</th>\n",
       "      <th>Delivery Details Drop Off Location</th>\n",
       "      <th>DIFOT_Difference</th>\n",
       "      <th>DIFOT</th>\n",
       "    </tr>\n",
       "  </thead>\n",
       "  <tbody>\n",
       "    <tr>\n",
       "      <th>0</th>\n",
       "      <td>4669796</td>\n",
       "      <td>27237</td>\n",
       "      <td>Alcohol</td>\n",
       "      <td>1 hour</td>\n",
       "      <td>1,543</td>\n",
       "      <td>324</td>\n",
       "      <td>$18.51</td>\n",
       "      <td>$13.89</td>\n",
       "      <td>$0.00</td>\n",
       "      <td>0.0</td>\n",
       "      <td>...</td>\n",
       "      <td>3128.0</td>\n",
       "      <td>VIC</td>\n",
       "      <td>Melbourne</td>\n",
       "      <td>'-37.8190938,145.1221019</td>\n",
       "      <td>3128</td>\n",
       "      <td>VIC</td>\n",
       "      <td>Melbourne</td>\n",
       "      <td>'-37.828301,145.1272158</td>\n",
       "      <td>56.0</td>\n",
       "      <td>0</td>\n",
       "    </tr>\n",
       "    <tr>\n",
       "      <th>1</th>\n",
       "      <td>4669793</td>\n",
       "      <td>27237</td>\n",
       "      <td>Alcohol</td>\n",
       "      <td>1 hour</td>\n",
       "      <td>730</td>\n",
       "      <td>173</td>\n",
       "      <td>$15.50</td>\n",
       "      <td>$11.63</td>\n",
       "      <td>$0.00</td>\n",
       "      <td>0.0</td>\n",
       "      <td>...</td>\n",
       "      <td>3194.0</td>\n",
       "      <td>VIC</td>\n",
       "      <td>Melbourne</td>\n",
       "      <td>'-37.9815041,145.0631414</td>\n",
       "      <td>3194</td>\n",
       "      <td>VIC</td>\n",
       "      <td>Melbourne</td>\n",
       "      <td>'-37.9827959,145.0578174</td>\n",
       "      <td>-46.0</td>\n",
       "      <td>1</td>\n",
       "    </tr>\n",
       "    <tr>\n",
       "      <th>2</th>\n",
       "      <td>4662566</td>\n",
       "      <td>45440</td>\n",
       "      <td>Grocery/Food</td>\n",
       "      <td>1 hour</td>\n",
       "      <td>7,432</td>\n",
       "      <td>699</td>\n",
       "      <td>$40.03</td>\n",
       "      <td>$30.01</td>\n",
       "      <td>$0.00</td>\n",
       "      <td>0.0</td>\n",
       "      <td>...</td>\n",
       "      <td>3150.0</td>\n",
       "      <td>VIC</td>\n",
       "      <td>Melbourne</td>\n",
       "      <td>'-37.8762186,145.1652513</td>\n",
       "      <td>3152</td>\n",
       "      <td>VIC</td>\n",
       "      <td>Melbourne</td>\n",
       "      <td>'-37.8865433,145.2356254</td>\n",
       "      <td>13.0</td>\n",
       "      <td>1</td>\n",
       "    </tr>\n",
       "    <tr>\n",
       "      <th>3</th>\n",
       "      <td>4669670</td>\n",
       "      <td>27237</td>\n",
       "      <td>Alcohol</td>\n",
       "      <td>1 hour</td>\n",
       "      <td>368</td>\n",
       "      <td>102</td>\n",
       "      <td>$15.50</td>\n",
       "      <td>$11.63</td>\n",
       "      <td>$0.00</td>\n",
       "      <td>0.0</td>\n",
       "      <td>...</td>\n",
       "      <td>3121.0</td>\n",
       "      <td>VIC</td>\n",
       "      <td>Melbourne</td>\n",
       "      <td>'-37.8254207,144.9942752</td>\n",
       "      <td>3121</td>\n",
       "      <td>VIC</td>\n",
       "      <td>Melbourne</td>\n",
       "      <td>'-37.826117,144.998071</td>\n",
       "      <td>-32.0</td>\n",
       "      <td>1</td>\n",
       "    </tr>\n",
       "    <tr>\n",
       "      <th>5</th>\n",
       "      <td>4669731</td>\n",
       "      <td>27237</td>\n",
       "      <td>Alcohol</td>\n",
       "      <td>1 hour</td>\n",
       "      <td>4,221</td>\n",
       "      <td>483</td>\n",
       "      <td>$18.00</td>\n",
       "      <td>$13.50</td>\n",
       "      <td>$0.00</td>\n",
       "      <td>0.0</td>\n",
       "      <td>...</td>\n",
       "      <td>4017.0</td>\n",
       "      <td>QLD</td>\n",
       "      <td>Brisbane</td>\n",
       "      <td>'-27.3201232,153.0413416</td>\n",
       "      <td>4017</td>\n",
       "      <td>QLD</td>\n",
       "      <td>Brisbane</td>\n",
       "      <td>'-27.3327807,153.0572797</td>\n",
       "      <td>-26.0</td>\n",
       "      <td>1</td>\n",
       "    </tr>\n",
       "  </tbody>\n",
       "</table>\n",
       "<p>5 rows × 39 columns</p>\n",
       "</div>"
      ],
      "text/plain": [
       "   Deliveries ID  Deliveries User ID Customers Category Name  \\\n",
       "0        4669796               27237                 Alcohol   \n",
       "1        4669793               27237                 Alcohol   \n",
       "2        4662566               45440            Grocery/Food   \n",
       "3        4669670               27237                 Alcohol   \n",
       "5        4669731               27237                 Alcohol   \n",
       "\n",
       "  Deliveries Delivery Option Name Deliveries Distance In Meters  \\\n",
       "0                          1 hour                         1,543   \n",
       "1                          1 hour                           730   \n",
       "2                          1 hour                         7,432   \n",
       "3                          1 hour                           368   \n",
       "5                          1 hour                         4,221   \n",
       "\n",
       "  Deliveries Duration In Seconds Deliveries Amount Deliveries Delivery Price  \\\n",
       "0                            324            $18.51                    $13.89   \n",
       "1                            173            $15.50                    $11.63   \n",
       "2                            699            $40.03                    $30.01   \n",
       "3                            102            $15.50                    $11.63   \n",
       "5                            483            $18.00                    $13.50   \n",
       "\n",
       "  Deliveries Refund Amount  Delivery Surcharges Amount Increase  ...  \\\n",
       "0                    $0.00                                  0.0  ...   \n",
       "1                    $0.00                                  0.0  ...   \n",
       "2                    $0.00                                  0.0  ...   \n",
       "3                    $0.00                                  0.0  ...   \n",
       "5                    $0.00                                  0.0  ...   \n",
       "\n",
       "   Delivery Details Pickup Postal Code  Delivery Details Pickup State Code  \\\n",
       "0                               3128.0                                 VIC   \n",
       "1                               3194.0                                 VIC   \n",
       "2                               3150.0                                 VIC   \n",
       "3                               3121.0                                 VIC   \n",
       "5                               4017.0                                 QLD   \n",
       "\n",
       "   Delivery Details Pickup Metro Area  Delivery Details Pickup Location  \\\n",
       "0                           Melbourne          '-37.8190938,145.1221019   \n",
       "1                           Melbourne          '-37.9815041,145.0631414   \n",
       "2                           Melbourne          '-37.8762186,145.1652513   \n",
       "3                           Melbourne          '-37.8254207,144.9942752   \n",
       "5                            Brisbane          '-27.3201232,153.0413416   \n",
       "\n",
       "   Delivery Details Drop Off Postal Code  \\\n",
       "0                                   3128   \n",
       "1                                   3194   \n",
       "2                                   3152   \n",
       "3                                   3121   \n",
       "5                                   4017   \n",
       "\n",
       "   Delivery Details Drop Off State Code  Delivery Details Drop Off Metro Area  \\\n",
       "0                                   VIC                             Melbourne   \n",
       "1                                   VIC                             Melbourne   \n",
       "2                                   VIC                             Melbourne   \n",
       "3                                   VIC                             Melbourne   \n",
       "5                                   QLD                              Brisbane   \n",
       "\n",
       "   Delivery Details Drop Off Location  DIFOT_Difference  DIFOT  \n",
       "0             '-37.828301,145.1272158              56.0      0  \n",
       "1            '-37.9827959,145.0578174             -46.0      1  \n",
       "2            '-37.8865433,145.2356254              13.0      1  \n",
       "3              '-37.826117,144.998071             -32.0      1  \n",
       "5            '-27.3327807,153.0572797             -26.0      1  \n",
       "\n",
       "[5 rows x 39 columns]"
      ]
     },
     "execution_count": 22,
     "metadata": {},
     "output_type": "execute_result"
    }
   ],
   "source": [
    "# calculating DIFOT\n",
    "\n",
    "ddft = pd.to_datetime(f_sherpa['Deliveries Deliver for Time'], format='%d/%m/%Y %H:%M')\n",
    "ddat = pd.to_datetime(f_sherpa['Deliveries Delivered At Time'], format='%d/%m/%Y %H:%M')\n",
    "diff = (ddat - ddft).dt.total_seconds()/60\n",
    "f_sherpa['DIFOT_Difference'] = diff\n",
    "\n",
    "f_sherpa['DIFOT']=0\n",
    "f_sherpa['DIFOT'][f_sherpa['DIFOT_Difference']<15] = 1\n",
    "f_sherpa.head()"
   ]
  },
  {
   "cell_type": "code",
   "execution_count": 23,
   "id": "25dff688",
   "metadata": {},
   "outputs": [
    {
     "data": {
      "text/plain": [
       "(441854, 37)"
      ]
     },
     "execution_count": 23,
     "metadata": {},
     "output_type": "execute_result"
    }
   ],
   "source": [
    "# drop 'Deliveries Delivered At Time' & 'Deliveries For Time' because they are used to calculate the target variable\n",
    "# to avoid multi-collinearity\n",
    "\n",
    "f_sherpa.drop(columns=['Deliveries Deliver for Time', 'Deliveries Delivered At Time'], inplace=True)\n",
    "f_sherpa.shape"
   ]
  },
  {
   "cell_type": "markdown",
   "id": "0da0382c",
   "metadata": {},
   "source": [
    "`Step3: Examine 'DIFOT'`"
   ]
  },
  {
   "cell_type": "code",
   "execution_count": 24,
   "id": "ed82e027",
   "metadata": {},
   "outputs": [
    {
     "data": {
      "text/plain": [
       "<AxesSubplot:title={'center':'DIFOT vs no DIFOT'}, ylabel='count'>"
      ]
     },
     "execution_count": 24,
     "metadata": {},
     "output_type": "execute_result"
    },
    {
     "data": {
      "image/png": "[encoded data removed]",
      "text/plain": [
       "<Figure size 432x288 with 1 Axes>"
      ]
     },
     "metadata": {
      "needs_background": "light"
     },
     "output_type": "display_data"
    }
   ],
   "source": [
    "# Visualise DIFOT \n",
    "\n",
    "f_sherpa['DIFOT'].value_counts().plot(kind='bar',\n",
    "                                     title = 'DIFOT vs no DIFOT',\n",
    "                                     ylabel = 'count')\n"
   ]
  },
  {
   "cell_type": "code",
   "execution_count": 25,
   "id": "3727186b",
   "metadata": {},
   "outputs": [
    {
     "name": "stdout",
     "output_type": "stream",
     "text": [
      "The current DIFOT rate of all Sherpa's delivery is 91.58%\n"
     ]
    }
   ],
   "source": [
    "# DIFOT rate\n",
    "\n",
    "amount_difot = f_sherpa['DIFOT'].value_counts() \n",
    "difot_rate = amount_difot[1]/f_sherpa.shape[0]*100\n",
    "print(\"The current DIFOT rate of all Sherpa's delivery is {:.2f}%\".format(difot_rate))"
   ]
  },
  {
   "cell_type": "markdown",
   "id": "b5e1560d",
   "metadata": {},
   "source": [
    "Summary:\n",
    "1. DIFOT is an imbalanced feature"
   ]
  },
  {
   "cell_type": "markdown",
   "id": "d5cfd1d3",
   "metadata": {},
   "source": [
    "### Delete unnecessary data"
   ]
  },
  {
   "cell_type": "code",
   "execution_count": 26,
   "id": "f585f537",
   "metadata": {},
   "outputs": [
    {
     "data": {
      "text/plain": [
       "(441854, 35)"
      ]
     },
     "execution_count": 26,
     "metadata": {},
     "output_type": "execute_result"
    }
   ],
   "source": [
    "f_sherpa.drop(columns=['Deliveries ID', 'Deliveries User ID'], inplace=True)\n",
    "f_sherpa.shape"
   ]
  },
  {
   "cell_type": "markdown",
   "id": "6b9ecc01",
   "metadata": {},
   "source": [
    "Now we have 37 variables left in the dataset. Of which, 'DIFOT' is our target variabels, that left us with 35 predictors (x) + 1 target (y)"
   ]
  },
  {
   "cell_type": "markdown",
   "id": "a270db2b",
   "metadata": {},
   "source": [
    "## Feature engineering"
   ]
  },
  {
   "cell_type": "markdown",
   "id": "df1f2455",
   "metadata": {},
   "source": [
    "### Classify variables into different types"
   ]
  },
  {
   "cell_type": "code",
   "execution_count": 27,
   "id": "405bc32a",
   "metadata": {},
   "outputs": [
    {
     "data": {
      "text/plain": [
       "Customers Category Name                            object\n",
       "Deliveries Delivery Option Name                    object\n",
       "Deliveries Distance In Meters                      object\n",
       "Deliveries Duration In Seconds                     object\n",
       "Deliveries Amount                                  object\n",
       "Deliveries Delivery Price                          object\n",
       "Deliveries Refund Amount                           object\n",
       "Delivery Surcharges Amount Increase               float64\n",
       "Delivery Surcharges Delivery Price Increase       float64\n",
       "Delivery Surcharges Cbd User                      float64\n",
       "Delivery Surcharges Cbd Courier                   float64\n",
       "Delivery Surcharges Multiple Items User           float64\n",
       "Delivery Surcharges Multiple Items Courier        float64\n",
       "Delivery Surcharges Wait Time Courier Increase      int64\n",
       "Delivery Surcharges Wait Time User Increase       float64\n",
       "Delivery Surcharges Insurance User                float64\n",
       "Deliveries Item Number                              int64\n",
       "Deliveries Heaviest Item Weight                   float64\n",
       "Deliveries Total Weight                           float64\n",
       "Deliveries Created Time                            object\n",
       "Deliveries Ready At Time                           object\n",
       "Deliveries Assigned At Time                        object\n",
       "Deliveries Time Zone                               object\n",
       "Deliveries Fragile (Yes / No)                      object\n",
       "Deliveries Future Job (Yes / No)                   object\n",
       "Delivery Details Pickup Postal Code               float64\n",
       "Delivery Details Pickup State Code                 object\n",
       "Delivery Details Pickup Metro Area                 object\n",
       "Delivery Details Pickup Location                   object\n",
       "Delivery Details Drop Off Postal Code              object\n",
       "Delivery Details Drop Off State Code               object\n",
       "Delivery Details Drop Off Metro Area               object\n",
       "Delivery Details Drop Off Location                 object\n",
       "DIFOT_Difference                                  float64\n",
       "DIFOT                                               int64\n",
       "dtype: object"
      ]
     },
     "execution_count": 27,
     "metadata": {},
     "output_type": "execute_result"
    }
   ],
   "source": [
    "f_sherpa.dtypes"
   ]
  },
  {
   "cell_type": "code",
   "execution_count": 28,
   "id": "46169de5",
   "metadata": {},
   "outputs": [
    {
     "data": {
      "text/plain": [
       "Customers Category Name                               23\n",
       "Deliveries Delivery Option Name                        5\n",
       "Deliveries Distance In Meters                      26461\n",
       "Deliveries Duration In Seconds                      3537\n",
       "Deliveries Amount                                   1443\n",
       "Deliveries Delivery Price                           2812\n",
       "Deliveries Refund Amount                               1\n",
       "Delivery Surcharges Amount Increase                   17\n",
       "Delivery Surcharges Delivery Price Increase           95\n",
       "Delivery Surcharges Cbd User                           9\n",
       "Delivery Surcharges Cbd Courier                       33\n",
       "Delivery Surcharges Multiple Items User               39\n",
       "Delivery Surcharges Multiple Items Courier           107\n",
       "Delivery Surcharges Wait Time Courier Increase        13\n",
       "Delivery Surcharges Wait Time User Increase           22\n",
       "Delivery Surcharges Insurance User                     2\n",
       "Deliveries Item Number                                41\n",
       "Deliveries Heaviest Item Weight                       26\n",
       "Deliveries Total Weight                              120\n",
       "Deliveries Created Time                            90071\n",
       "Deliveries Ready At Time                           54947\n",
       "Deliveries Assigned At Time                        71716\n",
       "Deliveries Time Zone                                   7\n",
       "Deliveries Fragile (Yes / No)                          2\n",
       "Deliveries Future Job (Yes / No)                       2\n",
       "Delivery Details Pickup Postal Code                  812\n",
       "Delivery Details Pickup State Code                     7\n",
       "Delivery Details Pickup Metro Area                    13\n",
       "Delivery Details Pickup Location                    9042\n",
       "Delivery Details Drop Off Postal Code               1019\n",
       "Delivery Details Drop Off State Code                   7\n",
       "Delivery Details Drop Off Metro Area                  15\n",
       "Delivery Details Drop Off Location                219257\n",
       "DIFOT_Difference                                     852\n",
       "DIFOT                                                  2\n",
       "dtype: int64"
      ]
     },
     "execution_count": 28,
     "metadata": {},
     "output_type": "execute_result"
    }
   ],
   "source": [
    "f_sherpa.nunique()"
   ]
  },
  {
   "cell_type": "markdown",
   "id": "4d4dea85",
   "metadata": {},
   "source": [
    "`Identifying problems in 'object'`"
   ]
  },
  {
   "cell_type": "code",
   "execution_count": 29,
   "id": "fde2d61f",
   "metadata": {},
   "outputs": [
    {
     "data": {
      "text/plain": [
       "Customers Category Name                  object\n",
       "Deliveries Delivery Option Name          object\n",
       "Deliveries Distance In Meters            object\n",
       "Deliveries Duration In Seconds           object\n",
       "Deliveries Amount                        object\n",
       "Deliveries Delivery Price                object\n",
       "Deliveries Refund Amount                 object\n",
       "Deliveries Created Time                  object\n",
       "Deliveries Ready At Time                 object\n",
       "Deliveries Assigned At Time              object\n",
       "Deliveries Time Zone                     object\n",
       "Deliveries Fragile (Yes / No)            object\n",
       "Deliveries Future Job (Yes / No)         object\n",
       "Delivery Details Pickup State Code       object\n",
       "Delivery Details Pickup Metro Area       object\n",
       "Delivery Details Pickup Location         object\n",
       "Delivery Details Drop Off Postal Code    object\n",
       "Delivery Details Drop Off State Code     object\n",
       "Delivery Details Drop Off Metro Area     object\n",
       "Delivery Details Drop Off Location       object\n",
       "dtype: object"
      ]
     },
     "execution_count": 29,
     "metadata": {},
     "output_type": "execute_result"
    }
   ],
   "source": [
    "f_sherpa.dtypes[f_sherpa.dtypes=='object']"
   ]
  },
  {
   "cell_type": "markdown",
   "id": "33fd17f5",
   "metadata": {},
   "source": [
    "Pandas can't always tell the true data type of each variable. therefore we need to manually investigate the type. we can check if a numerical variable is mistakenly classified as an 'object' using the nunique() function. Since a categorical variable would not usually have too many unique values, so they are easily identifiable"
   ]
  },
  {
   "cell_type": "code",
   "execution_count": 30,
   "id": "037faa25",
   "metadata": {},
   "outputs": [
    {
     "data": {
      "text/plain": [
       "Customers Category Name                      23\n",
       "Deliveries Delivery Option Name               5\n",
       "Deliveries Distance In Meters             26461\n",
       "Deliveries Duration In Seconds             3537\n",
       "Deliveries Amount                          1443\n",
       "Deliveries Delivery Price                  2812\n",
       "Deliveries Refund Amount                      1\n",
       "Deliveries Created Time                   90071\n",
       "Deliveries Ready At Time                  54947\n",
       "Deliveries Assigned At Time               71716\n",
       "Deliveries Time Zone                          7\n",
       "Deliveries Fragile (Yes / No)                 2\n",
       "Deliveries Future Job (Yes / No)              2\n",
       "Delivery Details Pickup State Code            7\n",
       "Delivery Details Pickup Metro Area           13\n",
       "Delivery Details Pickup Location           9042\n",
       "Delivery Details Drop Off Postal Code      1019\n",
       "Delivery Details Drop Off State Code          7\n",
       "Delivery Details Drop Off Metro Area         15\n",
       "Delivery Details Drop Off Location       219257\n",
       "dtype: int64"
      ]
     },
     "execution_count": 30,
     "metadata": {},
     "output_type": "execute_result"
    }
   ],
   "source": [
    "# to check which categorical variable is actually numerical variable\n",
    "\n",
    "cat_colmuns = f_sherpa.dtypes[f_sherpa.dtypes=='object'].index\n",
    "f_sherpa[cat_colmuns].nunique()"
   ]
  },
  {
   "cell_type": "code",
   "execution_count": 31,
   "id": "32cf810e",
   "metadata": {},
   "outputs": [
    {
     "name": "stdout",
     "output_type": "stream",
     "text": [
      "['1,543' '730' '7,432' ... '23,015' '38,472' '89,079']\n",
      "['324' '173' '699' ... '4,437' '2,957' '4,861']\n",
      "['$18.51' '$15.50' '$40.03' ... '$30.55' '$37.66' '$57.70']\n",
      "['$13.89' '$11.63' '$30.01' ... '$88.56' '$23.42' '$43.28']\n",
      "['3128' '3194' '3152' ... '6983' '7019' '3799']\n",
      "['$0.00']\n",
      "['VIC' 'QLD' 'NSW' 'WA' 'ACT' 'SA' 'TAS' nan]\n",
      "['Melbourne' 'Brisbane' 'Albury' 'Sydney' 'Gold Coast' 'Geelong' 'Gosford'\n",
      " 'Sunshine Coast' 'Perth' 'Canberra' 'Adelaide' 'Hobart' 'Launceston' nan\n",
      " 'Wollongong' 'Newcastle']\n"
     ]
    }
   ],
   "source": [
    "# to examine what is the problem that caused misclassification \n",
    "\n",
    "cols = ['Deliveries Distance In Meters', # have commas \n",
    "        'Deliveries Duration In Seconds', # commas\n",
    "        'Deliveries Amount', # dollar sign $\n",
    "        'Deliveries Delivery Price', # dollar sign $\n",
    "        'Delivery Details Drop Off Postal Code', # entry '3064،' had a symbol\n",
    "        'Deliveries Refund Amount', # only 1 unique value\n",
    "        'Delivery Details Drop Off State Code', \n",
    "        'Delivery Details Drop Off Metro Area']\n",
    "\n",
    "for col in cols:\n",
    "    print(f_sherpa[col].unique())"
   ]
  },
  {
   "cell_type": "code",
   "execution_count": null,
   "id": "c881980b",
   "metadata": {},
   "outputs": [],
   "source": []
  },
  {
   "cell_type": "code",
   "execution_count": 32,
   "id": "cd2ca828",
   "metadata": {},
   "outputs": [],
   "source": [
    "# correct the data type for the following variables\n",
    "\n",
    "f_sherpa['Deliveries Distance In Meters'] = f_sherpa['Deliveries Distance In Meters'].str.replace(',','').astype(np.float64)\n",
    "\n",
    "f_sherpa['Deliveries Duration In Seconds'] = f_sherpa['Deliveries Duration In Seconds'].str.replace(',','').astype(np.float64)\n",
    "\n",
    "f_sherpa['Deliveries Amount'] = f_sherpa['Deliveries Amount'].str.replace('$','').astype(np.float64)\n",
    "\n",
    "f_sherpa['Deliveries Delivery Price'] = f_sherpa['Deliveries Delivery Price'].str.replace('$','').astype(np.float64)\n",
    "\n",
    "f_sherpa['Delivery Details Drop Off Postal Code'] = f_sherpa['Delivery Details Drop Off Postal Code'].str.replace('3064،', '3064').astype(np.float64)\n",
    "\n",
    "\n",
    "\n",
    "\n",
    "# delete 'Deliveries Refund Amount'\n",
    "\n",
    "f_sherpa.drop(columns = 'Deliveries Refund Amount', inplace = True)"
   ]
  },
  {
   "cell_type": "code",
   "execution_count": 33,
   "id": "bb0c9420",
   "metadata": {
    "scrolled": true
   },
   "outputs": [
    {
     "data": {
      "text/plain": [
       "Customers Category Name                            object\n",
       "Deliveries Delivery Option Name                    object\n",
       "Deliveries Distance In Meters                     float64\n",
       "Deliveries Duration In Seconds                    float64\n",
       "Deliveries Amount                                 float64\n",
       "Deliveries Delivery Price                         float64\n",
       "Delivery Surcharges Amount Increase               float64\n",
       "Delivery Surcharges Delivery Price Increase       float64\n",
       "Delivery Surcharges Cbd User                      float64\n",
       "Delivery Surcharges Cbd Courier                   float64\n",
       "Delivery Surcharges Multiple Items User           float64\n",
       "Delivery Surcharges Multiple Items Courier        float64\n",
       "Delivery Surcharges Wait Time Courier Increase      int64\n",
       "Delivery Surcharges Wait Time User Increase       float64\n",
       "Delivery Surcharges Insurance User                float64\n",
       "Deliveries Item Number                              int64\n",
       "Deliveries Heaviest Item Weight                   float64\n",
       "Deliveries Total Weight                           float64\n",
       "Deliveries Created Time                            object\n",
       "Deliveries Ready At Time                           object\n",
       "Deliveries Assigned At Time                        object\n",
       "Deliveries Time Zone                               object\n",
       "Deliveries Fragile (Yes / No)                      object\n",
       "Deliveries Future Job (Yes / No)                   object\n",
       "Delivery Details Pickup Postal Code               float64\n",
       "Delivery Details Pickup State Code                 object\n",
       "Delivery Details Pickup Metro Area                 object\n",
       "Delivery Details Pickup Location                   object\n",
       "Delivery Details Drop Off Postal Code             float64\n",
       "Delivery Details Drop Off State Code               object\n",
       "Delivery Details Drop Off Metro Area               object\n",
       "Delivery Details Drop Off Location                 object\n",
       "DIFOT_Difference                                  float64\n",
       "DIFOT                                               int64\n",
       "dtype: object"
      ]
     },
     "execution_count": 33,
     "metadata": {},
     "output_type": "execute_result"
    }
   ],
   "source": [
    "f_sherpa.dtypes"
   ]
  },
  {
   "cell_type": "markdown",
   "id": "8d320d28",
   "metadata": {},
   "source": [
    "Summary: \n",
    "1. 'Deliveries Distance In Meters',\n",
    "'Deliveries Duration In Seconds',\n",
    "'Deliveries Amount',\n",
    "'Deliveries Delivery Price',\n",
    "'Delivery Details Drop Off Postal Code'\n",
    "have been converted to float64 type\n",
    "2. Delivery Details Drop Off Metro Area & Delivery Details Drop Off Location have missing value shown as 'nan'\n",
    "3. 'Deliveries Refund Amount' only has 1 unique value ($0.00), which we might delete "
   ]
  },
  {
   "cell_type": "markdown",
   "id": "1ce1e1c9",
   "metadata": {},
   "source": [
    "`Identifying problems in the 'float64'`"
   ]
  },
  {
   "cell_type": "code",
   "execution_count": 34,
   "id": "c469e58e",
   "metadata": {},
   "outputs": [
    {
     "data": {
      "text/plain": [
       "Deliveries Distance In Meters                  26461\n",
       "Deliveries Duration In Seconds                  3537\n",
       "Deliveries Amount                               1443\n",
       "Deliveries Delivery Price                       2812\n",
       "Delivery Surcharges Amount Increase               17\n",
       "Delivery Surcharges Delivery Price Increase       95\n",
       "Delivery Surcharges Cbd User                       9\n",
       "Delivery Surcharges Cbd Courier                   33\n",
       "Delivery Surcharges Multiple Items User           39\n",
       "Delivery Surcharges Multiple Items Courier       107\n",
       "Delivery Surcharges Wait Time User Increase       22\n",
       "Delivery Surcharges Insurance User                 2\n",
       "Deliveries Heaviest Item Weight                   26\n",
       "Deliveries Total Weight                          120\n",
       "Delivery Details Pickup Postal Code              812\n",
       "Delivery Details Drop Off Postal Code           1018\n",
       "DIFOT_Difference                                 852\n",
       "dtype: int64"
      ]
     },
     "execution_count": 34,
     "metadata": {},
     "output_type": "execute_result"
    }
   ],
   "source": [
    "flo_colmuns = f_sherpa.dtypes[f_sherpa.dtypes=='float64'].index\n",
    "f_sherpa[flo_colmuns].nunique()"
   ]
  },
  {
   "cell_type": "code",
   "execution_count": 35,
   "id": "fa169a44",
   "metadata": {},
   "outputs": [
    {
     "data": {
      "text/plain": [
       "0.00    438572\n",
       "2.75      3282\n",
       "Name: Delivery Surcharges Insurance User, dtype: int64"
      ]
     },
     "execution_count": 35,
     "metadata": {},
     "output_type": "execute_result"
    }
   ],
   "source": [
    "f_sherpa['Delivery Surcharges Insurance User'].value_counts()"
   ]
  },
  {
   "cell_type": "markdown",
   "id": "66762c11",
   "metadata": {},
   "source": [
    "Summary:\n",
    "1. use 'Delivery Surcharges Insurance User' as a categorical variable as it is Yes/No on the delivery insurance"
   ]
  },
  {
   "cell_type": "markdown",
   "id": "9888aaf4",
   "metadata": {},
   "source": [
    "`Identifying problems in 'int64'`"
   ]
  },
  {
   "cell_type": "code",
   "execution_count": 36,
   "id": "8d998b1e",
   "metadata": {},
   "outputs": [
    {
     "data": {
      "text/plain": [
       "Delivery Surcharges Wait Time Courier Increase    13\n",
       "Deliveries Item Number                            41\n",
       "DIFOT                                              2\n",
       "dtype: int64"
      ]
     },
     "execution_count": 36,
     "metadata": {},
     "output_type": "execute_result"
    }
   ],
   "source": [
    "int_colmuns = f_sherpa.dtypes[f_sherpa.dtypes=='int64'].index\n",
    "f_sherpa[int_colmuns].nunique()"
   ]
  },
  {
   "cell_type": "markdown",
   "id": "d842f2e0",
   "metadata": {},
   "source": [
    "no probelms here"
   ]
  },
  {
   "cell_type": "markdown",
   "id": "1178df6a",
   "metadata": {},
   "source": [
    "__`Categorise features`__"
   ]
  },
  {
   "cell_type": "code",
   "execution_count": 37,
   "id": "5a116529",
   "metadata": {},
   "outputs": [
    {
     "data": {
      "text/plain": [
       "0.0    438572\n",
       "1.0      3282\n",
       "Name: Delivery Surcharges Insurance User, dtype: int64"
      ]
     },
     "execution_count": 37,
     "metadata": {},
     "output_type": "execute_result"
    }
   ],
   "source": [
    "# dummy encoding 'Delivery Surcharges Insurance User'\n",
    "\n",
    "f_sherpa['Delivery Surcharges Insurance User'] = f_sherpa['Delivery Surcharges Insurance User'].replace([0.00, 2.75], [0, 1])\n",
    "f_sherpa['Delivery Surcharges Insurance User'].value_counts()"
   ]
  },
  {
   "cell_type": "code",
   "execution_count": 38,
   "id": "90133baa",
   "metadata": {},
   "outputs": [
    {
     "data": {
      "text/plain": [
       "['Deliveries Future Job (Yes / No)',\n",
       " 'Delivery Surcharges Delivery Price Increase',\n",
       " 'DIFOT',\n",
       " 'Deliveries Heaviest Item Weight',\n",
       " 'Delivery Surcharges Multiple Items Courier',\n",
       " 'Delivery Surcharges Cbd User',\n",
       " 'Delivery Surcharges Cbd Courier',\n",
       " 'Delivery Surcharges Wait Time Courier Increase',\n",
       " 'Deliveries Delivery Option Name',\n",
       " 'Deliveries Fragile (Yes / No)',\n",
       " 'Deliveries Item Number',\n",
       " 'Delivery Surcharges Wait Time User Increase',\n",
       " 'Deliveries Distance In Meters',\n",
       " 'Delivery Surcharges Multiple Items User',\n",
       " 'Customers Category Name',\n",
       " 'Delivery Surcharges Amount Increase',\n",
       " 'Deliveries Time Zone',\n",
       " 'Deliveries Total Weight',\n",
       " 'Delivery Surcharges Insurance User',\n",
       " 'Deliveries Amount',\n",
       " 'Deliveries Duration In Seconds',\n",
       " 'Deliveries Delivery Price',\n",
       " 'DIFOT_Difference']"
      ]
     },
     "execution_count": 38,
     "metadata": {},
     "output_type": "execute_result"
    }
   ],
   "source": [
    "columns = f_sherpa.columns.tolist()\n",
    "\n",
    "time_feature = ['Deliveries Created Time',\n",
    "                'Deliveries Ready At Time',\n",
    "                'Deliveries Assigned At Time',]\n",
    "\n",
    "locate_features = ['Delivery Details Pickup Postal Code',\n",
    "                'Delivery Details Pickup State Code',\n",
    "                'Delivery Details Pickup Metro Area',\n",
    "                'Delivery Details Pickup Location',\n",
    "                'Delivery Details Drop Off Postal Code',\n",
    "                'Delivery Details Drop Off State Code',\n",
    "                'Delivery Details Drop Off Metro Area',\n",
    "                'Delivery Details Drop Off Location',]\n",
    "\n",
    "\n",
    "other_features = list(set(columns) - set(time_feature)  - set(locate_features))\n",
    "other_features"
   ]
  },
  {
   "cell_type": "markdown",
   "id": "fea790f2",
   "metadata": {},
   "source": [
    "### Detect outliers"
   ]
  },
  {
   "cell_type": "code",
   "execution_count": 39,
   "id": "fd380743",
   "metadata": {},
   "outputs": [
    {
     "data": {
      "text/html": [
       "<div>\n",
       "<style scoped>\n",
       "    .dataframe tbody tr th:only-of-type {\n",
       "        vertical-align: middle;\n",
       "    }\n",
       "\n",
       "    .dataframe tbody tr th {\n",
       "        vertical-align: top;\n",
       "    }\n",
       "\n",
       "    .dataframe thead th {\n",
       "        text-align: right;\n",
       "    }\n",
       "</style>\n",
       "<table border=\"1\" class=\"dataframe\">\n",
       "  <thead>\n",
       "    <tr style=\"text-align: right;\">\n",
       "      <th></th>\n",
       "      <th>Deliveries Distance In Meters</th>\n",
       "      <th>Deliveries Duration In Seconds</th>\n",
       "      <th>Deliveries Amount</th>\n",
       "      <th>Deliveries Delivery Price</th>\n",
       "      <th>Delivery Surcharges Amount Increase</th>\n",
       "      <th>Delivery Surcharges Delivery Price Increase</th>\n",
       "      <th>Delivery Surcharges Cbd User</th>\n",
       "      <th>Delivery Surcharges Cbd Courier</th>\n",
       "      <th>Delivery Surcharges Multiple Items User</th>\n",
       "      <th>Delivery Surcharges Multiple Items Courier</th>\n",
       "      <th>Delivery Surcharges Wait Time Courier Increase</th>\n",
       "      <th>Delivery Surcharges Wait Time User Increase</th>\n",
       "      <th>Delivery Surcharges Insurance User</th>\n",
       "      <th>Deliveries Item Number</th>\n",
       "      <th>Deliveries Heaviest Item Weight</th>\n",
       "      <th>Deliveries Total Weight</th>\n",
       "      <th>Delivery Details Pickup Postal Code</th>\n",
       "      <th>Delivery Details Drop Off Postal Code</th>\n",
       "      <th>DIFOT_Difference</th>\n",
       "      <th>DIFOT</th>\n",
       "    </tr>\n",
       "  </thead>\n",
       "  <tbody>\n",
       "    <tr>\n",
       "      <th>count</th>\n",
       "      <td>441854.000000</td>\n",
       "      <td>441854.000000</td>\n",
       "      <td>441854.000000</td>\n",
       "      <td>441854.000000</td>\n",
       "      <td>441854.000000</td>\n",
       "      <td>441854.000000</td>\n",
       "      <td>441854.000000</td>\n",
       "      <td>441854.000000</td>\n",
       "      <td>441854.000000</td>\n",
       "      <td>441854.000000</td>\n",
       "      <td>441854.000000</td>\n",
       "      <td>441854.000000</td>\n",
       "      <td>441854.000000</td>\n",
       "      <td>441854.000000</td>\n",
       "      <td>257.000000</td>\n",
       "      <td>128195.000000</td>\n",
       "      <td>440961.000000</td>\n",
       "      <td>441833.000000</td>\n",
       "      <td>441854.000000</td>\n",
       "      <td>441854.000000</td>\n",
       "    </tr>\n",
       "    <tr>\n",
       "      <th>mean</th>\n",
       "      <td>4912.393329</td>\n",
       "      <td>514.683791</td>\n",
       "      <td>20.170314</td>\n",
       "      <td>15.571205</td>\n",
       "      <td>0.039746</td>\n",
       "      <td>0.163593</td>\n",
       "      <td>0.056929</td>\n",
       "      <td>0.043654</td>\n",
       "      <td>0.266106</td>\n",
       "      <td>0.207538</td>\n",
       "      <td>0.428341</td>\n",
       "      <td>0.571621</td>\n",
       "      <td>0.007428</td>\n",
       "      <td>1.321296</td>\n",
       "      <td>21.404669</td>\n",
       "      <td>21.214821</td>\n",
       "      <td>3464.360238</td>\n",
       "      <td>3467.052633</td>\n",
       "      <td>-32.353572</td>\n",
       "      <td>0.915846</td>\n",
       "    </tr>\n",
       "    <tr>\n",
       "      <th>std</th>\n",
       "      <td>5856.571305</td>\n",
       "      <td>388.047557</td>\n",
       "      <td>7.992070</td>\n",
       "      <td>5.999637</td>\n",
       "      <td>0.436038</td>\n",
       "      <td>0.722980</td>\n",
       "      <td>0.413480</td>\n",
       "      <td>0.316286</td>\n",
       "      <td>1.144672</td>\n",
       "      <td>0.875121</td>\n",
       "      <td>2.233025</td>\n",
       "      <td>2.980131</td>\n",
       "      <td>0.085864</td>\n",
       "      <td>0.918459</td>\n",
       "      <td>8.306133</td>\n",
       "      <td>12.747010</td>\n",
       "      <td>1284.888322</td>\n",
       "      <td>1281.642757</td>\n",
       "      <td>80.842670</td>\n",
       "      <td>0.277620</td>\n",
       "    </tr>\n",
       "    <tr>\n",
       "      <th>min</th>\n",
       "      <td>1.000000</td>\n",
       "      <td>1.000000</td>\n",
       "      <td>0.000000</td>\n",
       "      <td>0.000000</td>\n",
       "      <td>0.000000</td>\n",
       "      <td>0.000000</td>\n",
       "      <td>0.000000</td>\n",
       "      <td>0.000000</td>\n",
       "      <td>0.000000</td>\n",
       "      <td>0.000000</td>\n",
       "      <td>0.000000</td>\n",
       "      <td>0.000000</td>\n",
       "      <td>0.000000</td>\n",
       "      <td>1.000000</td>\n",
       "      <td>15.000000</td>\n",
       "      <td>1.000000</td>\n",
       "      <td>2000.000000</td>\n",
       "      <td>2000.000000</td>\n",
       "      <td>-1166.000000</td>\n",
       "      <td>0.000000</td>\n",
       "    </tr>\n",
       "    <tr>\n",
       "      <th>25%</th>\n",
       "      <td>2024.000000</td>\n",
       "      <td>286.000000</td>\n",
       "      <td>16.500000</td>\n",
       "      <td>12.380000</td>\n",
       "      <td>0.000000</td>\n",
       "      <td>0.000000</td>\n",
       "      <td>0.000000</td>\n",
       "      <td>0.000000</td>\n",
       "      <td>0.000000</td>\n",
       "      <td>0.000000</td>\n",
       "      <td>0.000000</td>\n",
       "      <td>0.000000</td>\n",
       "      <td>0.000000</td>\n",
       "      <td>1.000000</td>\n",
       "      <td>16.000000</td>\n",
       "      <td>12.000000</td>\n",
       "      <td>2560.000000</td>\n",
       "      <td>2565.000000</td>\n",
       "      <td>-49.000000</td>\n",
       "      <td>1.000000</td>\n",
       "    </tr>\n",
       "    <tr>\n",
       "      <th>50%</th>\n",
       "      <td>3402.000000</td>\n",
       "      <td>421.000000</td>\n",
       "      <td>17.010000</td>\n",
       "      <td>13.750000</td>\n",
       "      <td>0.000000</td>\n",
       "      <td>0.000000</td>\n",
       "      <td>0.000000</td>\n",
       "      <td>0.000000</td>\n",
       "      <td>0.000000</td>\n",
       "      <td>0.000000</td>\n",
       "      <td>0.000000</td>\n",
       "      <td>0.000000</td>\n",
       "      <td>0.000000</td>\n",
       "      <td>1.000000</td>\n",
       "      <td>20.000000</td>\n",
       "      <td>19.000000</td>\n",
       "      <td>3084.000000</td>\n",
       "      <td>3084.000000</td>\n",
       "      <td>-31.000000</td>\n",
       "      <td>1.000000</td>\n",
       "    </tr>\n",
       "    <tr>\n",
       "      <th>75%</th>\n",
       "      <td>5555.000000</td>\n",
       "      <td>612.000000</td>\n",
       "      <td>21.010000</td>\n",
       "      <td>16.390000</td>\n",
       "      <td>0.000000</td>\n",
       "      <td>0.000000</td>\n",
       "      <td>0.000000</td>\n",
       "      <td>0.000000</td>\n",
       "      <td>0.000000</td>\n",
       "      <td>0.000000</td>\n",
       "      <td>0.000000</td>\n",
       "      <td>0.000000</td>\n",
       "      <td>0.000000</td>\n",
       "      <td>1.000000</td>\n",
       "      <td>25.000000</td>\n",
       "      <td>28.000000</td>\n",
       "      <td>4151.000000</td>\n",
       "      <td>4152.000000</td>\n",
       "      <td>-10.000000</td>\n",
       "      <td>1.000000</td>\n",
       "    </tr>\n",
       "    <tr>\n",
       "      <th>max</th>\n",
       "      <td>99922.000000</td>\n",
       "      <td>5599.000000</td>\n",
       "      <td>166.000000</td>\n",
       "      <td>124.500000</td>\n",
       "      <td>20.000000</td>\n",
       "      <td>50.000000</td>\n",
       "      <td>5.000000</td>\n",
       "      <td>4.200000</td>\n",
       "      <td>88.910000</td>\n",
       "      <td>67.520000</td>\n",
       "      <td>45.000000</td>\n",
       "      <td>60.060000</td>\n",
       "      <td>1.000000</td>\n",
       "      <td>63.000000</td>\n",
       "      <td>84.000000</td>\n",
       "      <td>150.000000</td>\n",
       "      <td>7277.000000</td>\n",
       "      <td>7300.000000</td>\n",
       "      <td>17003.000000</td>\n",
       "      <td>1.000000</td>\n",
       "    </tr>\n",
       "  </tbody>\n",
       "</table>\n",
       "</div>"
      ],
      "text/plain": [
       "       Deliveries Distance In Meters  Deliveries Duration In Seconds  \\\n",
       "count                  441854.000000                   441854.000000   \n",
       "mean                     4912.393329                      514.683791   \n",
       "std                      5856.571305                      388.047557   \n",
       "min                         1.000000                        1.000000   \n",
       "25%                      2024.000000                      286.000000   \n",
       "50%                      3402.000000                      421.000000   \n",
       "75%                      5555.000000                      612.000000   \n",
       "max                     99922.000000                     5599.000000   \n",
       "\n",
       "       Deliveries Amount  Deliveries Delivery Price  \\\n",
       "count      441854.000000              441854.000000   \n",
       "mean           20.170314                  15.571205   \n",
       "std             7.992070                   5.999637   \n",
       "min             0.000000                   0.000000   \n",
       "25%            16.500000                  12.380000   \n",
       "50%            17.010000                  13.750000   \n",
       "75%            21.010000                  16.390000   \n",
       "max           166.000000                 124.500000   \n",
       "\n",
       "       Delivery Surcharges Amount Increase  \\\n",
       "count                        441854.000000   \n",
       "mean                              0.039746   \n",
       "std                               0.436038   \n",
       "min                               0.000000   \n",
       "25%                               0.000000   \n",
       "50%                               0.000000   \n",
       "75%                               0.000000   \n",
       "max                              20.000000   \n",
       "\n",
       "       Delivery Surcharges Delivery Price Increase  \\\n",
       "count                                441854.000000   \n",
       "mean                                      0.163593   \n",
       "std                                       0.722980   \n",
       "min                                       0.000000   \n",
       "25%                                       0.000000   \n",
       "50%                                       0.000000   \n",
       "75%                                       0.000000   \n",
       "max                                      50.000000   \n",
       "\n",
       "       Delivery Surcharges Cbd User  Delivery Surcharges Cbd Courier  \\\n",
       "count                 441854.000000                    441854.000000   \n",
       "mean                       0.056929                         0.043654   \n",
       "std                        0.413480                         0.316286   \n",
       "min                        0.000000                         0.000000   \n",
       "25%                        0.000000                         0.000000   \n",
       "50%                        0.000000                         0.000000   \n",
       "75%                        0.000000                         0.000000   \n",
       "max                        5.000000                         4.200000   \n",
       "\n",
       "       Delivery Surcharges Multiple Items User  \\\n",
       "count                            441854.000000   \n",
       "mean                                  0.266106   \n",
       "std                                   1.144672   \n",
       "min                                   0.000000   \n",
       "25%                                   0.000000   \n",
       "50%                                   0.000000   \n",
       "75%                                   0.000000   \n",
       "max                                  88.910000   \n",
       "\n",
       "       Delivery Surcharges Multiple Items Courier  \\\n",
       "count                               441854.000000   \n",
       "mean                                     0.207538   \n",
       "std                                      0.875121   \n",
       "min                                      0.000000   \n",
       "25%                                      0.000000   \n",
       "50%                                      0.000000   \n",
       "75%                                      0.000000   \n",
       "max                                     67.520000   \n",
       "\n",
       "       Delivery Surcharges Wait Time Courier Increase  \\\n",
       "count                                   441854.000000   \n",
       "mean                                         0.428341   \n",
       "std                                          2.233025   \n",
       "min                                          0.000000   \n",
       "25%                                          0.000000   \n",
       "50%                                          0.000000   \n",
       "75%                                          0.000000   \n",
       "max                                         45.000000   \n",
       "\n",
       "       Delivery Surcharges Wait Time User Increase  \\\n",
       "count                                441854.000000   \n",
       "mean                                      0.571621   \n",
       "std                                       2.980131   \n",
       "min                                       0.000000   \n",
       "25%                                       0.000000   \n",
       "50%                                       0.000000   \n",
       "75%                                       0.000000   \n",
       "max                                      60.060000   \n",
       "\n",
       "       Delivery Surcharges Insurance User  Deliveries Item Number  \\\n",
       "count                       441854.000000           441854.000000   \n",
       "mean                             0.007428                1.321296   \n",
       "std                              0.085864                0.918459   \n",
       "min                              0.000000                1.000000   \n",
       "25%                              0.000000                1.000000   \n",
       "50%                              0.000000                1.000000   \n",
       "75%                              0.000000                1.000000   \n",
       "max                              1.000000               63.000000   \n",
       "\n",
       "       Deliveries Heaviest Item Weight  Deliveries Total Weight  \\\n",
       "count                       257.000000            128195.000000   \n",
       "mean                         21.404669                21.214821   \n",
       "std                           8.306133                12.747010   \n",
       "min                          15.000000                 1.000000   \n",
       "25%                          16.000000                12.000000   \n",
       "50%                          20.000000                19.000000   \n",
       "75%                          25.000000                28.000000   \n",
       "max                          84.000000               150.000000   \n",
       "\n",
       "       Delivery Details Pickup Postal Code  \\\n",
       "count                        440961.000000   \n",
       "mean                           3464.360238   \n",
       "std                            1284.888322   \n",
       "min                            2000.000000   \n",
       "25%                            2560.000000   \n",
       "50%                            3084.000000   \n",
       "75%                            4151.000000   \n",
       "max                            7277.000000   \n",
       "\n",
       "       Delivery Details Drop Off Postal Code  DIFOT_Difference          DIFOT  \n",
       "count                          441833.000000     441854.000000  441854.000000  \n",
       "mean                             3467.052633        -32.353572       0.915846  \n",
       "std                              1281.642757         80.842670       0.277620  \n",
       "min                              2000.000000      -1166.000000       0.000000  \n",
       "25%                              2565.000000        -49.000000       1.000000  \n",
       "50%                              3084.000000        -31.000000       1.000000  \n",
       "75%                              4152.000000        -10.000000       1.000000  \n",
       "max                              7300.000000      17003.000000       1.000000  "
      ]
     },
     "execution_count": 39,
     "metadata": {},
     "output_type": "execute_result"
    }
   ],
   "source": [
    "f_sherpa.describe()"
   ]
  },
  {
   "cell_type": "code",
   "execution_count": 40,
   "id": "77403f4f",
   "metadata": {},
   "outputs": [
    {
     "data": {
      "text/plain": [
       "Index(['Customers Category Name', 'Deliveries Delivery Option Name',\n",
       "       'Deliveries Distance In Meters', 'Deliveries Duration In Seconds',\n",
       "       'Deliveries Amount', 'Deliveries Delivery Price',\n",
       "       'Delivery Surcharges Amount Increase',\n",
       "       'Delivery Surcharges Delivery Price Increase',\n",
       "       'Delivery Surcharges Cbd User', 'Delivery Surcharges Cbd Courier',\n",
       "       'Delivery Surcharges Multiple Items User',\n",
       "       'Delivery Surcharges Multiple Items Courier',\n",
       "       'Delivery Surcharges Wait Time Courier Increase',\n",
       "       'Delivery Surcharges Wait Time User Increase',\n",
       "       'Delivery Surcharges Insurance User', 'Deliveries Item Number',\n",
       "       'Deliveries Heaviest Item Weight', 'Deliveries Total Weight',\n",
       "       'Deliveries Created Time', 'Deliveries Ready At Time',\n",
       "       'Deliveries Assigned At Time', 'Deliveries Time Zone',\n",
       "       'Deliveries Fragile (Yes / No)', 'Deliveries Future Job (Yes / No)',\n",
       "       'Delivery Details Pickup Postal Code',\n",
       "       'Delivery Details Pickup State Code',\n",
       "       'Delivery Details Pickup Metro Area',\n",
       "       'Delivery Details Pickup Location',\n",
       "       'Delivery Details Drop Off Postal Code',\n",
       "       'Delivery Details Drop Off State Code',\n",
       "       'Delivery Details Drop Off Metro Area',\n",
       "       'Delivery Details Drop Off Location', 'DIFOT_Difference', 'DIFOT'],\n",
       "      dtype='object')"
      ]
     },
     "execution_count": 40,
     "metadata": {},
     "output_type": "execute_result"
    }
   ],
   "source": [
    "f_sherpa.keys()"
   ]
  },
  {
   "cell_type": "code",
   "execution_count": 41,
   "id": "208c7801",
   "metadata": {},
   "outputs": [
    {
     "data": {
      "text/plain": [
       "1491.0     188\n",
       "1.0        187\n",
       "5956.0     180\n",
       "1519.0     172\n",
       "1806.0     170\n",
       "          ... \n",
       "33373.0      1\n",
       "40640.0      1\n",
       "24672.0      1\n",
       "17507.0      1\n",
       "89079.0      1\n",
       "Name: Deliveries Distance In Meters, Length: 26461, dtype: int64"
      ]
     },
     "execution_count": 41,
     "metadata": {},
     "output_type": "execute_result"
    }
   ],
   "source": [
    "# how many in 'Deliveries Distance in Meters' are 1 meter\n",
    "\n",
    "f_sherpa['Deliveries Distance In Meters'].value_counts()"
   ]
  },
  {
   "cell_type": "code",
   "execution_count": 42,
   "id": "d62b50f0",
   "metadata": {},
   "outputs": [
    {
     "data": {
      "text/plain": [
       "194.0"
      ]
     },
     "execution_count": 42,
     "metadata": {},
     "output_type": "execute_result"
    }
   ],
   "source": [
    "# how many in 'Deliveries Duration In Seconds' are 1 second\n",
    "\n",
    "c = f_sherpa[f_sherpa['Deliveries Duration In Seconds']==1]\n",
    "c['Deliveries Duration In Seconds'].sum()"
   ]
  },
  {
   "cell_type": "markdown",
   "id": "48b4f82e",
   "metadata": {},
   "source": [
    "Summary:\n",
    "1. 'Deliveries Distance In Meters' & 'Deliveries Duration In Seconds' have min value of 1. Of which, 'Deliveries Distance In Meters' has 187 instances of 1m deliveries while 'Deliveries Duration In Seconds' has xxx instances of 1s deliveries. We need to investigate into this\n"
   ]
  },
  {
   "cell_type": "code",
   "execution_count": 43,
   "id": "4203e179",
   "metadata": {},
   "outputs": [
    {
     "data": {
      "text/plain": [
       "(441854, 34)"
      ]
     },
     "execution_count": 43,
     "metadata": {},
     "output_type": "execute_result"
    }
   ],
   "source": [
    "f_sherpa.shape"
   ]
  },
  {
   "cell_type": "code",
   "execution_count": 44,
   "id": "0282f952",
   "metadata": {},
   "outputs": [
    {
     "data": {
      "text/plain": [
       "(441660, 34)"
      ]
     },
     "execution_count": 44,
     "metadata": {},
     "output_type": "execute_result"
    }
   ],
   "source": [
    "# Begin to remove these strange values\n",
    "\n",
    "f_sherpa = f_sherpa[(f_sherpa['Deliveries Duration In Seconds'] != 1) & (f_sherpa['Deliveries Distance In Meters'] != 1)].copy()\n",
    "f_sherpa.shape"
   ]
  },
  {
   "cell_type": "markdown",
   "id": "7018a642",
   "metadata": {},
   "source": [
    "### univariate and bivariate analysis "
   ]
  },
  {
   "cell_type": "code",
   "execution_count": 45,
   "id": "f6cf674a",
   "metadata": {},
   "outputs": [
    {
     "data": {
      "text/plain": [
       "Alcohol                  254232\n",
       "Grocery/Food             130297\n",
       "Chemist                   17509\n",
       "Flowers                   15846\n",
       "Unknown                   10329\n",
       "Technology                 7612\n",
       "Cakes & Doughnuts          2135\n",
       "Gifts                      1284\n",
       "Fashion                     525\n",
       "Other                       478\n",
       "Adult Products              308\n",
       "Wholesale Food              196\n",
       "Legal                       191\n",
       "Public Relation             182\n",
       "Retail                      150\n",
       "Homewares                   113\n",
       "Building/Construction       100\n",
       "Sweets                       79\n",
       "Catering                     42\n",
       "Realestate/Property          24\n",
       "Courier                      19\n",
       "Sporting                      8\n",
       "Printing                      1\n",
       "Name: Customers Category Name, dtype: int64"
      ]
     },
     "execution_count": 45,
     "metadata": {},
     "output_type": "execute_result"
    }
   ],
   "source": [
    "f_sherpa['Customers Category Name'].value_counts()"
   ]
  },
  {
   "cell_type": "code",
   "execution_count": 46,
   "id": "94ee7fab",
   "metadata": {},
   "outputs": [
    {
     "data": {
      "text/plain": [
       "Alcohol                  57.562831\n",
       "Grocery/Food             29.501653\n",
       "Chemist                   3.964362\n",
       "Flowers                   3.587828\n",
       "Unknown                   2.338677\n",
       "Technology                1.723498\n",
       "Cakes & Doughnuts         0.483404\n",
       "Gifts                     0.290721\n",
       "Fashion                   0.118870\n",
       "Other                     0.108228\n",
       "Adult Products            0.069737\n",
       "Wholesale Food            0.044378\n",
       "Legal                     0.043246\n",
       "Public Relation           0.041208\n",
       "Retail                    0.033963\n",
       "Homewares                 0.025585\n",
       "Building/Construction     0.022642\n",
       "Sweets                    0.017887\n",
       "Catering                  0.009510\n",
       "Realestate/Property       0.005434\n",
       "Courier                   0.004302\n",
       "Sporting                  0.001811\n",
       "Printing                  0.000226\n",
       "Name: Customers Category Name, dtype: float64"
      ]
     },
     "execution_count": 46,
     "metadata": {},
     "output_type": "execute_result"
    }
   ],
   "source": [
    "perc_customer = f_sherpa['Customers Category Name'].value_counts()/f_sherpa.shape[0]*100\n",
    "\n",
    "perc_customer"
   ]
  },
  {
   "cell_type": "code",
   "execution_count": 47,
   "id": "2b75b044",
   "metadata": {},
   "outputs": [
    {
     "data": {
      "text/plain": [
       "<AxesSubplot:title={'center':'Distribution of customers categorise (before merging)'}, xlabel='industry', ylabel='count'>"
      ]
     },
     "execution_count": 47,
     "metadata": {},
     "output_type": "execute_result"
    },
    {
     "data": {
      "image/png": "[encoded data removed]",
      "text/plain": [
       "<Figure size 576x576 with 1 Axes>"
      ]
     },
     "metadata": {
      "needs_background": "light"
     },
     "output_type": "display_data"
    }
   ],
   "source": [
    "# check customer distribution\n",
    "\n",
    "f_sherpa['Customers Category Name'].value_counts().plot(figsize = (8,8),kind='bar',\n",
    "                                                       title = 'Distribution of customers categorise (before merging)',\n",
    "                                                       xlabel = 'industry',\n",
    "                                                       ylabel = 'count')\n",
    "\n"
   ]
  },
  {
   "cell_type": "code",
   "execution_count": 48,
   "id": "8922983c",
   "metadata": {},
   "outputs": [
    {
     "data": {
      "image/png": "[encoded data removed]",
      "text/plain": [
       "<Figure size 1008x720 with 1 Axes>"
      ]
     },
     "metadata": {
      "needs_background": "light"
     },
     "output_type": "display_data"
    }
   ],
   "source": [
    "# bar plot - delivery customer name vs DIFOT\n",
    "#bar = [f_sherpa['Customers Category Name', 'Delivery Surcharges Insurance User']]\n",
    "\n",
    "\n",
    "crosstb = pd.crosstab(f_sherpa['Customers Category Name'],f_sherpa['DIFOT'])\n",
    "barplot = crosstb.plot.bar(figsize=(14,10),rot=45)\n",
    "\n"
   ]
  },
  {
   "cell_type": "code",
   "execution_count": 49,
   "id": "35651957",
   "metadata": {},
   "outputs": [],
   "source": [
    "# merge the categories that have very low counts into 'other'\n",
    "\n",
    "variable = 'Customers Category Name'\n",
    "\n",
    "counts = f_sherpa[variable].value_counts() \n",
    "for level in counts.index:\n",
    "    if counts[level] < 1000:\n",
    "        f_sherpa.loc[f_sherpa[variable]==level, variable] = 'Other'"
   ]
  },
  {
   "cell_type": "code",
   "execution_count": 50,
   "id": "c13083fc",
   "metadata": {},
   "outputs": [
    {
     "data": {
      "text/plain": [
       "<AxesSubplot:title={'center':'Distribution of cutomers categories (after merging)'}, xlabel='industry', ylabel='count'>"
      ]
     },
     "execution_count": 50,
     "metadata": {},
     "output_type": "execute_result"
    },
    {
     "data": {
      "image/png": "[encoded data removed]",
      "text/plain": [
       "<Figure size 576x576 with 1 Axes>"
      ]
     },
     "metadata": {
      "needs_background": "light"
     },
     "output_type": "display_data"
    }
   ],
   "source": [
    "f_sherpa['Customers Category Name'].value_counts().plot(figsize = (8,8),kind='bar',\n",
    "                                                       title = 'Distribution of cutomers categories (after merging)',\n",
    "                                                       xlabel = 'industry',\n",
    "                                                       ylabel = 'count')"
   ]
  },
  {
   "cell_type": "code",
   "execution_count": 68,
   "id": "b618a640",
   "metadata": {},
   "outputs": [
    {
     "data": {
      "image/png": "[encoded data removed]",
      "text/plain": [
       "<Figure size 1008x720 with 1 Axes>"
      ]
     },
     "metadata": {
      "needs_background": "light"
     },
     "output_type": "display_data"
    }
   ],
   "source": [
    "crosstb = pd.crosstab(f_sherpa['Customers Category Name'],f_sherpa['DIFOT'])\n",
    "barplot = crosstb.plot.bar(figsize=(14,10),rot=45,\n",
    "                          title = 'customer category name vs DIFOT',\n",
    "                          xlabel = 'industry',\n",
    "                          ylabel = 'count')"
   ]
  },
  {
   "cell_type": "code",
   "execution_count": 52,
   "id": "57b37eaf",
   "metadata": {},
   "outputs": [
    {
     "data": {
      "image/png": "[encoded data removed]",
      "text/plain": [
       "<Figure size 432x432 with 1 Axes>"
      ]
     },
     "metadata": {
      "needs_background": "light"
     },
     "output_type": "display_data"
    }
   ],
   "source": [
    "# bar plot - insurance vs DIFOT\n",
    "\n",
    "crosstb = pd.crosstab(f_sherpa['Delivery Surcharges Insurance User'],f_sherpa['DIFOT'])\n",
    "barplot = crosstb.plot.bar(figsize=(6,6),\n",
    "                           rot=45,\n",
    "                           ylabel = 'No. DIFOT',\n",
    "                           xlabel = 'Insurance on delivery (YES=1)',\n",
    "                           title = 'Insurance user vs DIFOT')"
   ]
  },
  {
   "cell_type": "code",
   "execution_count": 53,
   "id": "ea5998f9",
   "metadata": {},
   "outputs": [
    {
     "data": {
      "text/plain": [
       "Index(['Customers Category Name', 'Deliveries Delivery Option Name',\n",
       "       'Deliveries Distance In Meters', 'Deliveries Duration In Seconds',\n",
       "       'Deliveries Amount', 'Deliveries Delivery Price',\n",
       "       'Delivery Surcharges Amount Increase',\n",
       "       'Delivery Surcharges Delivery Price Increase',\n",
       "       'Delivery Surcharges Cbd User', 'Delivery Surcharges Cbd Courier',\n",
       "       'Delivery Surcharges Multiple Items User',\n",
       "       'Delivery Surcharges Multiple Items Courier',\n",
       "       'Delivery Surcharges Wait Time Courier Increase',\n",
       "       'Delivery Surcharges Wait Time User Increase',\n",
       "       'Delivery Surcharges Insurance User', 'Deliveries Item Number',\n",
       "       'Deliveries Heaviest Item Weight', 'Deliveries Total Weight',\n",
       "       'Deliveries Created Time', 'Deliveries Ready At Time',\n",
       "       'Deliveries Assigned At Time', 'Deliveries Time Zone',\n",
       "       'Deliveries Fragile (Yes / No)', 'Deliveries Future Job (Yes / No)',\n",
       "       'Delivery Details Pickup Postal Code',\n",
       "       'Delivery Details Pickup State Code',\n",
       "       'Delivery Details Pickup Metro Area',\n",
       "       'Delivery Details Pickup Location',\n",
       "       'Delivery Details Drop Off Postal Code',\n",
       "       'Delivery Details Drop Off State Code',\n",
       "       'Delivery Details Drop Off Metro Area',\n",
       "       'Delivery Details Drop Off Location', 'DIFOT_Difference', 'DIFOT'],\n",
       "      dtype='object')"
      ]
     },
     "execution_count": 53,
     "metadata": {},
     "output_type": "execute_result"
    }
   ],
   "source": [
    "f_sherpa.columns"
   ]
  },
  {
   "cell_type": "code",
   "execution_count": 67,
   "id": "28f4ef18",
   "metadata": {},
   "outputs": [
    {
     "data": {
      "text/plain": [
       "array([ 4,  1,  2, 10,  3,  5,  9,  6,  7,  8, 22, 11, 60, 15, 31, 18, 12,\n",
       "       14, 13, 63, 16, 17, 33, 21, 61, 30, 37, 42, 20, 19, 32, 29, 28, 62,\n",
       "       34, 23, 44, 24, 45, 27, 25])"
      ]
     },
     "execution_count": 67,
     "metadata": {},
     "output_type": "execute_result"
    }
   ],
   "source": [
    "f_sherpa['Deliveries Item Number'].unique()"
   ]
  },
  {
   "cell_type": "code",
   "execution_count": 54,
   "id": "164ac23e",
   "metadata": {},
   "outputs": [
    {
     "data": {
      "image/png": "[encoded data removed]",
      "text/plain": [
       "<Figure size 1080x720 with 2 Axes>"
      ]
     },
     "metadata": {
      "needs_background": "light"
     },
     "output_type": "display_data"
    }
   ],
   "source": [
    "# box plot - 'Delivery Surcharges Amount Increase' & 'Delivery Surcharges Delivery Price Increase'\n",
    "\n",
    "fig, axs = plt.subplots(1, 2, figsize=(15, 10))\n",
    "\n",
    "f_sherpa.boxplot('Delivery Surcharges Amount Increase', \"DIFOT\", ax=axs[0])\n",
    "axs[0].set_xlabel(\"DIFOT Yes=1\")\n",
    "axs[0].set_ylabel(\"Price charged to customers\")\n",
    "axs[0].set_title(\"DIFOT vs Surcharges to customer\")\n",
    "\n",
    "f_sherpa.boxplot('Delivery Surcharges Delivery Price Increase', \"DIFOT\", ax=axs[1])\n",
    "axs[1].set_xlabel(\"DIFOT Yes=1\")\n",
    "axs[1].set_ylabel(\"Amount paid to drivers\")\n",
    "axs[1].set_title(\"DIFOT vs surcharges to drivers\")\n",
    "\n",
    "plt.suptitle(\"Distrubition of Duration and Amount\");"
   ]
  },
  {
   "cell_type": "code",
   "execution_count": 55,
   "id": "6fb7ecda",
   "metadata": {},
   "outputs": [
    {
     "data": {
      "image/png": "[encoded data removed]",
      "text/plain": [
       "<Figure size 1080x720 with 2 Axes>"
      ]
     },
     "metadata": {
      "needs_background": "light"
     },
     "output_type": "display_data"
    }
   ],
   "source": [
    "#  - Surcharge vs DIFOT\n",
    "\n",
    "fig, axs = plt.subplots(1, 2, figsize=(15, 10))\n",
    "\n",
    "f_sherpa.boxplot(\"Deliveries Delivery Price\", \"DIFOT\", ax=axs[0])\n",
    "axs[0].set_xlabel(\"DIFOT Yes=1\")\n",
    "axs[0].set_ylabel(\"Price charged to customers\")\n",
    "axs[0].set_title(\"DIFOT vs price charged to customers\")\n",
    "\n",
    "f_sherpa.boxplot(\"Deliveries Amount\", \"DIFOT\", ax=axs[1])\n",
    "axs[1].set_xlabel(\"DIFOT Yes=1\")\n",
    "axs[1].set_ylabel(\"Amount paid to drivers\")\n",
    "axs[1].set_title(\"DIFOT vs amount paid to drivers\")\n",
    "\n",
    "plt.suptitle(\"Distrubition of Duration and Amount\");"
   ]
  },
  {
   "cell_type": "code",
   "execution_count": 56,
   "id": "c76995be",
   "metadata": {},
   "outputs": [
    {
     "data": {
      "text/plain": [
       "<AxesSubplot:xlabel='DIFOT', ylabel='Deliveries Item Number'>"
      ]
     },
     "execution_count": 56,
     "metadata": {},
     "output_type": "execute_result"
    },
    {
     "data": {
      "image/png": "[encoded data removed]",
      "text/plain": [
       "<Figure size 720x720 with 1 Axes>"
      ]
     },
     "metadata": {
      "needs_background": "light"
     },
     "output_type": "display_data"
    }
   ],
   "source": [
    "# Delivery item number vs DIFOT\n",
    "\n",
    "plt.figure(figsize = (10,10))\n",
    "sns.boxplot(x = 'DIFOT', y= 'Deliveries Item Number', data = f_sherpa)"
   ]
  },
  {
   "cell_type": "code",
   "execution_count": 57,
   "id": "9ca045e3",
   "metadata": {},
   "outputs": [
    {
     "data": {
      "image/png": "[encoded data removed]",
      "text/plain": [
       "<Figure size 576x432 with 1 Axes>"
      ]
     },
     "metadata": {
      "needs_background": "light"
     },
     "output_type": "display_data"
    }
   ],
   "source": [
    "# Delivery option name vs DIFOT\n",
    "\n",
    "crosstb = pd.crosstab(f_sherpa['Deliveries Delivery Option Name'],f_sherpa['DIFOT'])\n",
    "barplot = crosstb.plot.bar(figsize=(8,6),\n",
    "                           rot=45,\n",
    "                           ylabel = 'No. DIFOT',\n",
    "                           xlabel = 'Insurance on delivery (YES=1)',\n",
    "                           title = 'Insurance user vs DIFOT')"
   ]
  },
  {
   "cell_type": "code",
   "execution_count": 58,
   "id": "b111f806",
   "metadata": {},
   "outputs": [
    {
     "data": {
      "text/plain": [
       "Index(['Customers Category Name', 'Deliveries Delivery Option Name',\n",
       "       'Deliveries Distance In Meters', 'Deliveries Duration In Seconds',\n",
       "       'Deliveries Amount', 'Deliveries Delivery Price',\n",
       "       'Delivery Surcharges Amount Increase',\n",
       "       'Delivery Surcharges Delivery Price Increase',\n",
       "       'Delivery Surcharges Cbd User', 'Delivery Surcharges Cbd Courier',\n",
       "       'Delivery Surcharges Multiple Items User',\n",
       "       'Delivery Surcharges Multiple Items Courier',\n",
       "       'Delivery Surcharges Wait Time Courier Increase',\n",
       "       'Delivery Surcharges Wait Time User Increase',\n",
       "       'Delivery Surcharges Insurance User', 'Deliveries Item Number',\n",
       "       'Deliveries Heaviest Item Weight', 'Deliveries Total Weight',\n",
       "       'Deliveries Created Time', 'Deliveries Ready At Time',\n",
       "       'Deliveries Assigned At Time', 'Deliveries Time Zone',\n",
       "       'Deliveries Fragile (Yes / No)', 'Deliveries Future Job (Yes / No)',\n",
       "       'Delivery Details Pickup Postal Code',\n",
       "       'Delivery Details Pickup State Code',\n",
       "       'Delivery Details Pickup Metro Area',\n",
       "       'Delivery Details Pickup Location',\n",
       "       'Delivery Details Drop Off Postal Code',\n",
       "       'Delivery Details Drop Off State Code',\n",
       "       'Delivery Details Drop Off Metro Area',\n",
       "       'Delivery Details Drop Off Location', 'DIFOT_Difference', 'DIFOT'],\n",
       "      dtype='object')"
      ]
     },
     "execution_count": 58,
     "metadata": {},
     "output_type": "execute_result"
    }
   ],
   "source": [
    "f_sherpa.columns"
   ]
  },
  {
   "cell_type": "code",
   "execution_count": null,
   "id": "77135b88",
   "metadata": {},
   "outputs": [],
   "source": []
  },
  {
   "cell_type": "code",
   "execution_count": 59,
   "id": "0065ab83",
   "metadata": {},
   "outputs": [
    {
     "ename": "TypeError",
     "evalue": "object of type 'NoneType' has no len()",
     "output_type": "error",
     "traceback": [
      "\u001b[0;31m---------------------------------------------------------------------------\u001b[0m",
      "\u001b[0;31mTypeError\u001b[0m                                 Traceback (most recent call last)",
      "\u001b[0;32m/var/folders/60/dhv6ff6170391027qyv52nq40000gn/T/ipykernel_19879/1293383608.py\u001b[0m in \u001b[0;36m<module>\u001b[0;34m\u001b[0m\n\u001b[1;32m      4\u001b[0m \u001b[0mfig\u001b[0m\u001b[0;34m,\u001b[0m \u001b[0max\u001b[0m \u001b[0;34m=\u001b[0m \u001b[0mplt\u001b[0m\u001b[0;34m.\u001b[0m\u001b[0msubplots\u001b[0m\u001b[0;34m(\u001b[0m\u001b[0mfigsize\u001b[0m\u001b[0;34m=\u001b[0m\u001b[0mfig_dims\u001b[0m\u001b[0;34m)\u001b[0m\u001b[0;34m\u001b[0m\u001b[0;34m\u001b[0m\u001b[0m\n\u001b[1;32m      5\u001b[0m \u001b[0;31m# df_violin[\"position\"] = pd.to_numeric(df_violin[\"position\"],errors='coerce')\u001b[0m\u001b[0;34m\u001b[0m\u001b[0;34m\u001b[0m\u001b[0m\n\u001b[0;32m----> 6\u001b[0;31m \u001b[0msns\u001b[0m\u001b[0;34m.\u001b[0m\u001b[0mcatplot\u001b[0m\u001b[0;34m(\u001b[0m\u001b[0mx\u001b[0m\u001b[0;34m=\u001b[0m\u001b[0mf_sherpa\u001b[0m\u001b[0;34m[\u001b[0m\u001b[0;34m\"DIFOT\"\u001b[0m\u001b[0;34m]\u001b[0m\u001b[0;34m,\u001b[0m\u001b[0my\u001b[0m\u001b[0;34m=\u001b[0m\u001b[0mf_sherpa\u001b[0m\u001b[0;34m[\u001b[0m\u001b[0;34m'Deliveries Item Number'\u001b[0m\u001b[0;34m]\u001b[0m\u001b[0;34m)\u001b[0m\u001b[0;34m\u001b[0m\u001b[0;34m\u001b[0m\u001b[0m\n\u001b[0m",
      "\u001b[0;32m/Applications/anaconda3/lib/python3.9/site-packages/seaborn/_decorators.py\u001b[0m in \u001b[0;36minner_f\u001b[0;34m(*args, **kwargs)\u001b[0m\n\u001b[1;32m     44\u001b[0m             )\n\u001b[1;32m     45\u001b[0m         \u001b[0mkwargs\u001b[0m\u001b[0;34m.\u001b[0m\u001b[0mupdate\u001b[0m\u001b[0;34m(\u001b[0m\u001b[0;34m{\u001b[0m\u001b[0mk\u001b[0m\u001b[0;34m:\u001b[0m \u001b[0marg\u001b[0m \u001b[0;32mfor\u001b[0m \u001b[0mk\u001b[0m\u001b[0;34m,\u001b[0m \u001b[0marg\u001b[0m \u001b[0;32min\u001b[0m \u001b[0mzip\u001b[0m\u001b[0;34m(\u001b[0m\u001b[0msig\u001b[0m\u001b[0;34m.\u001b[0m\u001b[0mparameters\u001b[0m\u001b[0;34m,\u001b[0m \u001b[0margs\u001b[0m\u001b[0;34m)\u001b[0m\u001b[0;34m}\u001b[0m\u001b[0;34m)\u001b[0m\u001b[0;34m\u001b[0m\u001b[0;34m\u001b[0m\u001b[0m\n\u001b[0;32m---> 46\u001b[0;31m         \u001b[0;32mreturn\u001b[0m \u001b[0mf\u001b[0m\u001b[0;34m(\u001b[0m\u001b[0;34m**\u001b[0m\u001b[0mkwargs\u001b[0m\u001b[0;34m)\u001b[0m\u001b[0;34m\u001b[0m\u001b[0;34m\u001b[0m\u001b[0m\n\u001b[0m\u001b[1;32m     47\u001b[0m     \u001b[0;32mreturn\u001b[0m \u001b[0minner_f\u001b[0m\u001b[0;34m\u001b[0m\u001b[0;34m\u001b[0m\u001b[0m\n\u001b[1;32m     48\u001b[0m \u001b[0;34m\u001b[0m\u001b[0m\n",
      "\u001b[0;32m/Applications/anaconda3/lib/python3.9/site-packages/seaborn/categorical.py\u001b[0m in \u001b[0;36mcatplot\u001b[0;34m(x, y, hue, data, row, col, col_wrap, estimator, ci, n_boot, units, seed, order, hue_order, row_order, col_order, kind, height, aspect, orient, color, palette, legend, legend_out, sharex, sharey, margin_titles, facet_kws, **kwargs)\u001b[0m\n\u001b[1;32m   3842\u001b[0m \u001b[0;34m\u001b[0m\u001b[0m\n\u001b[1;32m   3843\u001b[0m     \u001b[0;31m# Initialize the facets\u001b[0m\u001b[0;34m\u001b[0m\u001b[0;34m\u001b[0m\u001b[0m\n\u001b[0;32m-> 3844\u001b[0;31m     \u001b[0mg\u001b[0m \u001b[0;34m=\u001b[0m \u001b[0mFacetGrid\u001b[0m\u001b[0;34m(\u001b[0m\u001b[0;34m**\u001b[0m\u001b[0mfacet_kws\u001b[0m\u001b[0;34m)\u001b[0m\u001b[0;34m\u001b[0m\u001b[0;34m\u001b[0m\u001b[0m\n\u001b[0m\u001b[1;32m   3845\u001b[0m \u001b[0;34m\u001b[0m\u001b[0m\n\u001b[1;32m   3846\u001b[0m     \u001b[0;31m# Draw the plot onto the facets\u001b[0m\u001b[0;34m\u001b[0m\u001b[0;34m\u001b[0m\u001b[0m\n",
      "\u001b[0;32m/Applications/anaconda3/lib/python3.9/site-packages/seaborn/_decorators.py\u001b[0m in \u001b[0;36minner_f\u001b[0;34m(*args, **kwargs)\u001b[0m\n\u001b[1;32m     44\u001b[0m             )\n\u001b[1;32m     45\u001b[0m         \u001b[0mkwargs\u001b[0m\u001b[0;34m.\u001b[0m\u001b[0mupdate\u001b[0m\u001b[0;34m(\u001b[0m\u001b[0;34m{\u001b[0m\u001b[0mk\u001b[0m\u001b[0;34m:\u001b[0m \u001b[0marg\u001b[0m \u001b[0;32mfor\u001b[0m \u001b[0mk\u001b[0m\u001b[0;34m,\u001b[0m \u001b[0marg\u001b[0m \u001b[0;32min\u001b[0m \u001b[0mzip\u001b[0m\u001b[0;34m(\u001b[0m\u001b[0msig\u001b[0m\u001b[0;34m.\u001b[0m\u001b[0mparameters\u001b[0m\u001b[0;34m,\u001b[0m \u001b[0margs\u001b[0m\u001b[0;34m)\u001b[0m\u001b[0;34m}\u001b[0m\u001b[0;34m)\u001b[0m\u001b[0;34m\u001b[0m\u001b[0;34m\u001b[0m\u001b[0m\n\u001b[0;32m---> 46\u001b[0;31m         \u001b[0;32mreturn\u001b[0m \u001b[0mf\u001b[0m\u001b[0;34m(\u001b[0m\u001b[0;34m**\u001b[0m\u001b[0mkwargs\u001b[0m\u001b[0;34m)\u001b[0m\u001b[0;34m\u001b[0m\u001b[0;34m\u001b[0m\u001b[0m\n\u001b[0m\u001b[1;32m     47\u001b[0m     \u001b[0;32mreturn\u001b[0m \u001b[0minner_f\u001b[0m\u001b[0;34m\u001b[0m\u001b[0;34m\u001b[0m\u001b[0m\n\u001b[1;32m     48\u001b[0m \u001b[0;34m\u001b[0m\u001b[0m\n",
      "\u001b[0;32m/Applications/anaconda3/lib/python3.9/site-packages/seaborn/axisgrid.py\u001b[0m in \u001b[0;36m__init__\u001b[0;34m(self, data, row, col, hue, col_wrap, sharex, sharey, height, aspect, palette, row_order, col_order, hue_order, hue_kws, dropna, legend_out, despine, margin_titles, xlim, ylim, subplot_kws, gridspec_kws, size)\u001b[0m\n\u001b[1;32m    362\u001b[0m         \u001b[0;31m# Make a boolean mask that is True anywhere there is an NA\u001b[0m\u001b[0;34m\u001b[0m\u001b[0;34m\u001b[0m\u001b[0m\n\u001b[1;32m    363\u001b[0m         \u001b[0;31m# value in one of the faceting variables, but only if dropna is True\u001b[0m\u001b[0;34m\u001b[0m\u001b[0;34m\u001b[0m\u001b[0m\n\u001b[0;32m--> 364\u001b[0;31m         \u001b[0mnone_na\u001b[0m \u001b[0;34m=\u001b[0m \u001b[0mnp\u001b[0m\u001b[0;34m.\u001b[0m\u001b[0mzeros\u001b[0m\u001b[0;34m(\u001b[0m\u001b[0mlen\u001b[0m\u001b[0;34m(\u001b[0m\u001b[0mdata\u001b[0m\u001b[0;34m)\u001b[0m\u001b[0;34m,\u001b[0m \u001b[0mbool\u001b[0m\u001b[0;34m)\u001b[0m\u001b[0;34m\u001b[0m\u001b[0;34m\u001b[0m\u001b[0m\n\u001b[0m\u001b[1;32m    365\u001b[0m         \u001b[0;32mif\u001b[0m \u001b[0mdropna\u001b[0m\u001b[0;34m:\u001b[0m\u001b[0;34m\u001b[0m\u001b[0;34m\u001b[0m\u001b[0m\n\u001b[1;32m    366\u001b[0m             \u001b[0mrow_na\u001b[0m \u001b[0;34m=\u001b[0m \u001b[0mnone_na\u001b[0m \u001b[0;32mif\u001b[0m \u001b[0mrow\u001b[0m \u001b[0;32mis\u001b[0m \u001b[0;32mNone\u001b[0m \u001b[0;32melse\u001b[0m \u001b[0mdata\u001b[0m\u001b[0;34m[\u001b[0m\u001b[0mrow\u001b[0m\u001b[0;34m]\u001b[0m\u001b[0;34m.\u001b[0m\u001b[0misnull\u001b[0m\u001b[0;34m(\u001b[0m\u001b[0;34m)\u001b[0m\u001b[0;34m\u001b[0m\u001b[0;34m\u001b[0m\u001b[0m\n",
      "\u001b[0;31mTypeError\u001b[0m: object of type 'NoneType' has no len()"
     ]
    },
    {
     "data": {
      "image/png": "[encoded data removed]",
      "text/plain": [
       "<Figure size 864x576 with 1 Axes>"
      ]
     },
     "metadata": {
      "needs_background": "light"
     },
     "output_type": "display_data"
    }
   ],
   "source": [
    "# violin plot\n",
    "\n",
    "fig_dims = (12, 8)\n",
    "fig, ax = plt.subplots(figsize=fig_dims)\n",
    "# df_violin[\"position\"] = pd.to_numeric(df_violin[\"position\"],errors='coerce')\n",
    "sns.catplot(x=f_sherpa[\"DIFOT\"],y=f_sherpa['Deliveries Item Number'])"
   ]
  },
  {
   "cell_type": "code",
   "execution_count": null,
   "id": "eeb3e6c8",
   "metadata": {},
   "outputs": [],
   "source": []
  },
  {
   "cell_type": "code",
   "execution_count": null,
   "id": "84d066d3",
   "metadata": {},
   "outputs": [],
   "source": []
  },
  {
   "cell_type": "markdown",
   "id": "189f831d",
   "metadata": {},
   "source": [
    "### Interaction effect"
   ]
  },
  {
   "cell_type": "code",
   "execution_count": null,
   "id": "aaa2095b",
   "metadata": {},
   "outputs": [],
   "source": [
    "# see 6810 w3"
   ]
  },
  {
   "cell_type": "code",
   "execution_count": null,
   "id": "bf414131",
   "metadata": {},
   "outputs": [],
   "source": []
  },
  {
   "cell_type": "code",
   "execution_count": null,
   "id": "db07532e",
   "metadata": {
    "scrolled": true
   },
   "outputs": [],
   "source": [
    "%matplotlib inline \n",
    "import matplotlib.pyplot as plt\n",
    "f_sherpa.hist(bins=20, figsize=(20,15)) #doing a histogram on all num variables"
   ]
  },
  {
   "cell_type": "code",
   "execution_count": null,
   "id": "1a33007f",
   "metadata": {},
   "outputs": [],
   "source": []
  },
  {
   "cell_type": "code",
   "execution_count": null,
   "id": "03812afa",
   "metadata": {},
   "outputs": [],
   "source": []
  },
  {
   "cell_type": "code",
   "execution_count": null,
   "id": "31f1acd4",
   "metadata": {},
   "outputs": [],
   "source": []
  },
  {
   "cell_type": "code",
   "execution_count": null,
   "id": "7fae07db",
   "metadata": {},
   "outputs": [],
   "source": []
  },
  {
   "cell_type": "markdown",
   "id": "69a6f229",
   "metadata": {},
   "source": [
    "Missing values - impute mean/median/mode\n",
    "\n",
    "No missing:\n",
    "\n",
    "\n",
    "a few missing:\n",
    "1. cont - mean/median/mode\n",
    "2. cat - mode\n",
    "\n",
    "\n",
    "a lot missing:\n",
    "1. analyse case by case\n",
    "2. delete\n",
    "3. amount/price regression\n",
    "4. mode\n",
    "5. dummy to indicate the missing\n"
   ]
  },
  {
   "cell_type": "markdown",
   "id": "df09703d",
   "metadata": {},
   "source": [
    "insurance make diff?\n",
    "location\n"
   ]
  },
  {
   "cell_type": "code",
   "execution_count": null,
   "id": "3092cfed",
   "metadata": {},
   "outputs": [],
   "source": []
  },
  {
   "cell_type": "code",
   "execution_count": null,
   "id": "b596fb76",
   "metadata": {},
   "outputs": [],
   "source": []
  },
  {
   "cell_type": "markdown",
   "id": "64fe15b5",
   "metadata": {},
   "source": [
    "# Model building"
   ]
  },
  {
   "cell_type": "code",
   "execution_count": null,
   "id": "8b42a7e6",
   "metadata": {},
   "outputs": [],
   "source": [
    "import statsmodels.api as sm\n",
    "from sklearn.model_selection import train_test_split\n",
    "\n",
    "\n",
    "train_indices, test_indices = train_test_split(np.array(f_sherpa.index), test_size=0.2, random_state=0)\n",
    "\n",
    "f_sherpa_train = f_sherpa.loc[train_indices].copy()\n",
    "f_sherpa_test = f_sherpa.loc[test_indices].copy() \n",
    "f_sherpa_train"
   ]
  },
  {
   "cell_type": "code",
   "execution_count": null,
   "id": "1441bbce",
   "metadata": {},
   "outputs": [],
   "source": [
    "y = f_sherpa_train['DIFOT']\n",
    "x = f_sherpa_train.drop(columns='DIFOT')\n",
    "x = sm.add_constant(x)\n",
    "\n",
    "model = sm.Logit(y, x).fit()"
   ]
  },
  {
   "cell_type": "code",
   "execution_count": null,
   "id": "95e20e04",
   "metadata": {},
   "outputs": [],
   "source": [
    "# possible solution \n",
    "# est = sm.OLS(y, X.astype(float)).fit()"
   ]
  },
  {
   "cell_type": "code",
   "execution_count": null,
   "id": "766071fd",
   "metadata": {},
   "outputs": [],
   "source": [
    "print(model.summary())"
   ]
  },
  {
   "cell_type": "code",
   "execution_count": null,
   "id": "5bf50ecb",
   "metadata": {},
   "outputs": [],
   "source": [
    "x_test = sm.add_constant(german_test['duration'])\n",
    "model.predict(x_test)"
   ]
  },
  {
   "cell_type": "code",
   "execution_count": null,
   "id": "3d2de031",
   "metadata": {},
   "outputs": [],
   "source": [
    "plt.scatter(model.fittedvalues, model.resid);"
   ]
  },
  {
   "cell_type": "markdown",
   "id": "3bf9a1cd",
   "metadata": {},
   "source": [
    "## Normalization"
   ]
  },
  {
   "cell_type": "code",
   "execution_count": null,
   "id": "712c71a3",
   "metadata": {},
   "outputs": [],
   "source": []
  },
  {
   "cell_type": "code",
   "execution_count": null,
   "id": "a563a88b",
   "metadata": {},
   "outputs": [],
   "source": []
  },
  {
   "cell_type": "markdown",
   "id": "98bd8f72",
   "metadata": {},
   "source": [
    "random forest\n",
    "class_imbalance = true\n",
    "\n",
    "\n",
    "boosting\n"
   ]
  },
  {
   "cell_type": "code",
   "execution_count": null,
   "id": "37228e92",
   "metadata": {},
   "outputs": [],
   "source": []
  }
 ],
 "metadata": {
  "kernelspec": {
   "display_name": "Python 3 (ipykernel)",
   "language": "python",
   "name": "python3"
  },
  "language_info": {
   "codemirror_mode": {
    "name": "ipython",
    "version": 3
   },
   "file_extension": ".py",
   "mimetype": "text/x-python",
   "name": "python",
   "nbconvert_exporter": "python",
   "pygments_lexer": "ipython3",
   "version": "3.9.7"
  }
 },
 "nbformat": 4,
 "nbformat_minor": 5
}
